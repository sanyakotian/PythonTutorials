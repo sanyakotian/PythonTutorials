{
 "cells": [
  {
   "cell_type": "markdown",
   "id": "a38d572b",
   "metadata": {},
   "source": [
    "## Advanced programming III\n",
    "### Understanding and creating correlated datasets and how to create functions"
   ]
  },
  {
   "cell_type": "markdown",
   "id": "809aa3e2",
   "metadata": {},
   "source": [
    "As we said before, the core of data science is computer programming. \n",
    "\n",
    "To really explore data, we need to be able to write code to \n",
    "\n",
    "  (1) wrangle or even generate data that has the properties needed for analysis and \n",
    "  \n",
    "  (2) do actual data analysis and visualization.\n",
    "\n",
    "If data science didn't involve programming – if it only involved clicking buttons in a statistics program like SPSS – it wouldn't be called data *science*. In fact, it wouldn't even be a \"thing\" at all."
   ]
  },
  {
   "cell_type": "markdown",
   "id": "30775168",
   "metadata": {},
   "source": [
    "### Learning goals:\n",
    " \n",
    " - Understand how to generate correlated variables.\n",
    " \n",
    " - More indexing\n",
    " \n",
    " - More experiments with loops"
   ]
  },
  {
   "cell_type": "markdown",
   "id": "7cfc85df",
   "metadata": {},
   "source": [
    "#### Generate correlated datasets\n",
    "\n",
    "In thispart of the tutorial we will learn how generate datasets that are 'related.' While doing that we will practice a few things learned recently in previous tutorials:\n",
    "\n",
    "  - Plotting with matplotlib\n",
    "  - generating numpy arrays\n",
    "  - indexing into arrays\n",
    "  - using `while` loops"
   ]
  },
  {
   "cell_type": "markdown",
   "id": "b9d921de",
   "metadata": {},
   "source": [
    "First thing first, we will import the basic libraries we need."
   ]
  },
  {
   "cell_type": "code",
   "execution_count": 1,
   "id": "a95ca534",
   "metadata": {},
   "outputs": [],
   "source": [
    "import numpy as np\n",
    "import seaborn as sns\n",
    "import matplotlib.pyplot as plt"
   ]
  },
  {
   "cell_type": "markdown",
   "id": "0ae26e00",
   "metadata": {},
   "source": [
    "After that we will create a few datasets. More specifically, we will create `n` datasets each called `x` (say 5 datasets, where `n=5`). Each dataset will have the length of `m` (where for example, `m` could be 100), this means for example that each dataset will have the shape of (m,1) or in our example (100,1).\n",
    "\n",
    "After that, we will create another group of `n` datasets called `y` of the same shape of `x`. Each one of the `y` datasets will have a corresponding `x` dataset that it will be correlated with.\n",
    "\n",
    "This means that for each dataset in `x` there will be a dataset in `y` that is correlated with it.\n",
    "\n",
    "Let's get started with a hands on method. Forst we will make the example of a single dataset `x` and a correlated dataset `y`."
   ]
  },
  {
   "cell_type": "code",
   "execution_count": 2,
   "id": "90569e91",
   "metadata": {},
   "outputs": [
    {
     "data": {
      "text/plain": [
       "(array([ 1.,  0.,  0.,  0.,  0.,  4.,  2.,  2.,  1.,  4.,  2.,  8.,  3.,\n",
       "         6.,  8., 12., 10., 14., 14., 27., 27., 29., 24., 26., 37., 30.,\n",
       "        40., 50., 42., 37., 43., 38., 32., 42., 33., 45., 23., 32., 29.,\n",
       "        32., 28., 23., 16., 27., 12., 16., 13.,  6., 14., 10.,  6.,  4.,\n",
       "         7.,  2.,  2.,  2.,  1.,  0.,  0.,  2.]),\n",
       " array([1.75536728, 1.85946496, 1.96356264, 2.06766031, 2.17175799,\n",
       "        2.27585567, 2.37995335, 2.48405103, 2.5881487 , 2.69224638,\n",
       "        2.79634406, 2.90044174, 3.00453941, 3.10863709, 3.21273477,\n",
       "        3.31683245, 3.42093012, 3.5250278 , 3.62912548, 3.73322316,\n",
       "        3.83732083, 3.94141851, 4.04551619, 4.14961387, 4.25371155,\n",
       "        4.35780922, 4.4619069 , 4.56600458, 4.67010226, 4.77419993,\n",
       "        4.87829761, 4.98239529, 5.08649297, 5.19059064, 5.29468832,\n",
       "        5.398786  , 5.50288368, 5.60698136, 5.71107903, 5.81517671,\n",
       "        5.91927439, 6.02337207, 6.12746974, 6.23156742, 6.3356651 ,\n",
       "        6.43976278, 6.54386045, 6.64795813, 6.75205581, 6.85615349,\n",
       "        6.96025117, 7.06434884, 7.16844652, 7.2725442 , 7.37664188,\n",
       "        7.48073955, 7.58483723, 7.68893491, 7.79303259, 7.89713026,\n",
       "        8.00122794]),\n",
       " <BarContainer object of 60 artists>)"
      ]
     },
     "execution_count": 2,
     "metadata": {},
     "output_type": "execute_result"
    },
    {
     "data": {
      "image/png": "[encoded data removed]",
      "text/plain": [
       "<Figure size 432x288 with 1 Axes>"
      ]
     },
     "metadata": {
      "needs_background": "light"
     },
     "output_type": "display_data"
    }
   ],
   "source": [
    "# We first build the dataset `x`, \n",
    "# we will use our standard method\n",
    "# based on randn\n",
    "m  = 1000 # length of the dataset \n",
    "mu = 5 #number of datasets \n",
    "sd = 1 \n",
    "x  = mu + sd*np.random.randn(m,1)\n",
    "\n",
    "# let take a look at it\n",
    "plt.hist(x, 60) "
   ]
  },
  {
   "cell_type": "markdown",
   "id": "afee412a",
   "metadata": {},
   "source": [
    "OK. After generating the first dataset we will generate a second dataset, let's call it `y`. This second dataset will be correlated to the first.\n",
    "\n",
    "To generate a dataset correlated to `x` we will indeed use `x` as our base for the data and add on top of `x` a small amount of noise, let's call it `noise`. `noise` represents the small (or larger) difference between `x` and `y`. "
   ]
  },
  {
   "cell_type": "code",
   "execution_count": 3,
   "id": "78fe035c",
   "metadata": {},
   "outputs": [
    {
     "data": {
      "text/plain": [
       "(array([ 1.,  0.,  0.,  0.,  0.,  1.,  1.,  1.,  0.,  1.,  0.,  0.,  2.,\n",
       "         2.,  3.,  4.,  8., 11.,  9., 11.,  7., 16., 20., 11., 29., 24.,\n",
       "        23., 32., 36., 38., 30., 49., 33., 43., 60., 45., 46., 36., 38.,\n",
       "        46., 29., 28., 35., 28., 25., 23., 20., 18., 14., 14.,  9.,  7.,\n",
       "         9.,  9.,  2.,  1.,  1.,  2.,  3.,  6.]),\n",
       " array([-0.43239275, -0.2775301 , -0.12266745,  0.0321952 ,  0.18705786,\n",
       "         0.34192051,  0.49678316,  0.65164581,  0.80650847,  0.96137112,\n",
       "         1.11623377,  1.27109642,  1.42595907,  1.58082173,  1.73568438,\n",
       "         1.89054703,  2.04540968,  2.20027233,  2.35513499,  2.50999764,\n",
       "         2.66486029,  2.81972294,  2.9745856 ,  3.12944825,  3.2843109 ,\n",
       "         3.43917355,  3.5940362 ,  3.74889886,  3.90376151,  4.05862416,\n",
       "         4.21348681,  4.36834947,  4.52321212,  4.67807477,  4.83293742,\n",
       "         4.98780007,  5.14266273,  5.29752538,  5.45238803,  5.60725068,\n",
       "         5.76211333,  5.91697599,  6.07183864,  6.22670129,  6.38156394,\n",
       "         6.5364266 ,  6.69128925,  6.8461519 ,  7.00101455,  7.1558772 ,\n",
       "         7.31073986,  7.46560251,  7.62046516,  7.77532781,  7.93019047,\n",
       "         8.08505312,  8.23991577,  8.39477842,  8.54964107,  8.70450373,\n",
       "         8.85936638]),\n",
       " <BarContainer object of 60 artists>)"
      ]
     },
     "execution_count": 3,
     "metadata": {},
     "output_type": "execute_result"
    },
    {
     "data": {
      "image/png": "[encoded data removed]",
      "text/plain": [
       "<Figure size 432x288 with 1 Axes>"
      ]
     },
     "metadata": {
      "needs_background": "light"
     },
     "output_type": "display_data"
    }
   ],
   "source": [
    "err = np.random.randn(m,1)\n",
    "y = x + err\n",
    "plt.hist(y,60)"
   ]
  },
  {
   "cell_type": "markdown",
   "id": "1035d734",
   "metadata": {},
   "source": [
    "OK. The two histograms seem similar (similar range and height), but it is difficult to judge if `x` and `y` are indeed correlated. To do that we need to make a scatter plot.\n",
    "\n",
    "`matplotlib` has a convenient function for scatter plots, `plt.scatter()`, we will use that function to take a look at whether the two datasets are correlated."
   ]
  },
  {
   "cell_type": "code",
   "execution_count": 4,
   "id": "c1c3dc64",
   "metadata": {},
   "outputs": [
    {
     "data": {
      "text/plain": [
       "<matplotlib.collections.PathCollection at 0x7faeaaac4280>"
      ]
     },
     "execution_count": 4,
     "metadata": {},
     "output_type": "execute_result"
    },
    {
     "data": {
      "image/png": "[encoded data removed]",
      "text/plain": [
       "<Figure size 432x288 with 1 Axes>"
      ]
     },
     "metadata": {
      "needs_background": "light"
     },
     "output_type": "display_data"
    }
   ],
   "source": [
    "plt.scatter(x,y)"
   ]
  },
  {
   "cell_type": "markdown",
   "id": "b1aac1a9",
   "metadata": {},
   "source": [
    "Great, the symbols should be aligned along the major diagonal. This means that they are indeed correlated. To get to understand more what we did above, let's think about `err`.\n",
    "\n",
    "Imagine, if there were no error, e.g., no `err`. That would mean that there would be no difference between `x` and `y`. Literally, the two datasets would be identical.\n",
    "\n",
    "We can do that with the code above by setting `err` to `0`."
   ]
  },
  {
   "cell_type": "code",
   "execution_count": 5,
   "id": "04cbe9a9",
   "metadata": {},
   "outputs": [
    {
     "data": {
      "text/plain": [
       "<matplotlib.collections.PathCollection at 0x7faeaab6d070>"
      ]
     },
     "execution_count": 5,
     "metadata": {},
     "output_type": "execute_result"
    },
    {
     "data": {
      "image/png": "[encoded data removed]",
      "text/plain": [
       "<Figure size 432x288 with 1 Axes>"
      ]
     },
     "metadata": {
      "needs_background": "light"
     },
     "output_type": "display_data"
    }
   ],
   "source": [
    "err = 0\n",
    "y = x + err\n",
    "plt.scatter(x,y)"
   ]
  },
  {
   "cell_type": "markdown",
   "id": "932919e2",
   "metadata": {},
   "source": [
    "The symbols should all lay on the major diagonal. So, `err` effectively controls the level of correlation between `x` and `y`. So if we set it to something small, in other words if we add only a small amount of error then the two arrays (`x` and `y`) would be very similar. For example, let's try setting it up to 10% of the original `err`."
   ]
  },
  {
   "cell_type": "code",
   "execution_count": 7,
   "id": "553ce0f9",
   "metadata": {},
   "outputs": [
    {
     "data": {
      "text/plain": [
       "<matplotlib.collections.PathCollection at 0x7faeaaeaad60>"
      ]
     },
     "execution_count": 7,
     "metadata": {},
     "output_type": "execute_result"
    },
    {
     "data": {
      "image/png": "[encoded data removed]",
      "text/plain": [
       "<Figure size 432x288 with 1 Axes>"
      ]
     },
     "metadata": {
      "needs_background": "light"
     },
     "output_type": "display_data"
    }
   ],
   "source": [
    "err = np.random.randn(m,1);\n",
    "err = err*0.1 # 0.1 -> scaling factor\n",
    "y = x + err\n",
    "plt.scatter(x,y)"
   ]
  },
  {
   "cell_type": "markdown",
   "id": "2e1c6e9b",
   "metadata": {},
   "source": [
    "OK. It should have worked. The error added is not large, the symbols should lay almost on the diagonal, but not quite.\n",
    "\n",
    "As we increase the `err` the symbols should move away from the diagonal."
   ]
  },
  {
   "cell_type": "code",
   "execution_count": 8,
   "id": "9ffc82ce",
   "metadata": {},
   "outputs": [
    {
     "data": {
      "text/plain": [
       "<matplotlib.collections.PathCollection at 0x7faeaaf93bb0>"
      ]
     },
     "execution_count": 8,
     "metadata": {},
     "output_type": "execute_result"
    },
    {
     "data": {
      "image/png": "[encoded data removed]",
      "text/plain": [
       "<Figure size 432x288 with 1 Axes>"
      ]
     },
     "metadata": {
      "needs_background": "light"
     },
     "output_type": "display_data"
    }
   ],
   "source": [
    "err = np.random.randn(m,1);\n",
    "scaling_factor = 0.9\n",
    "err = err*scaling_factor \n",
    "y = x + err\n",
    "plt.scatter(x,y)"
   ]
  },
  {
   "cell_type": "markdown",
   "id": "3c1c2e2c",
   "metadata": {},
   "source": [
    "One way to think about the scaling factor and `err` is that they are related to correlation. Indeed, they are not directly related to correlation (not a one-to-one relationship, but a proxy). \n",
    "\n",
    "The scaling factor is inversely related to correlation because as the scaling factor increases the correlation decreases. Furthermore, they are not directly related to correlation because they both depend on a couple of variables, for example, the variance of the distributions (both `err` and `x` will affect the relationship between the correlation and the scaling factor). More err, lesser correlation between the 2 variables. "
   ]
  },
  {
   "cell_type": "markdown",
   "id": "56d49cd6",
   "metadata": {},
   "source": [
    "Python has a method to generate couples of correlated arrays. We will now briefly explore it, but leave a deeper dive on each function to you. You are suggested to further explore the code below and its implications. It might come helpful to us later down the road, you never know!"
   ]
  },
  {
   "cell_type": "markdown",
   "id": "3c7d7803",
   "metadata": {},
   "source": [
    "#### A more principled way to make correlated datasets\n",
    "\n",
    "NumPy has a function called `multivariate_normal` that generates pairs of correlated datasets. The correlation values can be specified conveniently. A little bit of thinking is required, though. The function uses the covariance matrix. The covariance matrix is composed of 4 numbers. Two of the numbers describe the variances of the two datasamples we want to generate. The other two values describe the correlation between the samples and are generally called `covariances` (co-variations or co-relations)."
   ]
  },
  {
   "cell_type": "code",
   "execution_count": null,
   "id": "bfa555a2",
   "metadata": {},
   "outputs": [],
   "source": [
    "from  numpy.random import multivariate_normal # we import the function\n",
    "x_mu = 0; # we set up the mean of the first set of data points \n",
    "y_mu = 0; # we set up the mean of the second sample\n",
    "x_var = 1; # the variance of the first sample\n",
    "y_var = 1; # the variance of the second sample\n",
    "cov = 0.9; # this is the covariance (can be thought of as correlation)\n",
    "\n",
    "# the function multivariate_normal will need a matrix to control\n",
    "# the relation between the samples, this matrix is called covariance matrix\n",
    "cov_m = [[x_var, cov],\n",
    "         [cov, y_var]]\n",
    "\n",
    "# we now create the two data sets by setting the the proper\n",
    "# means and passing the covariance matrix, we also pass the\n",
    "# requested size of the sample\n",
    "data = multivariate_normal([x_mu, y_mu], cov_m, size=1000)\n",
    "\n",
    "# We can plot the two data sets\n",
    "x, y = data[:,0], data[:,1]\n",
    "plt.scatter(x, y)"
   ]
  },
  {
   "cell_type": "markdown",
   "id": "13ec207a",
   "metadata": {},
   "source": [
    "#### Creating many correlated datasets\n",
    "\n",
    "Imagine now if we were asked to create a series of correlated datasets. Not one, nottwo, more than that.\n",
    "\n",
    "Once the basic code used to build one is known. The rest of the datasets can be generated reusing the same code and putting the code inside a loop. Below we will show how to create 5 datasets using a `while` loop."
   ]
  },
  {
   "cell_type": "code",
   "execution_count": null,
   "id": "1c20772f",
   "metadata": {},
   "outputs": [],
   "source": [
    "counter = 0;\n",
    "n_datasets = 5;\n",
    "siz_datasets = 1000;\n",
    "\n",
    "x_mu = 1;  # mean of the first dataset \n",
    "y_mu = 1;  # mean of the second dataset\n",
    "x_var = 2; # the variance of the first dataset\n",
    "y_var = 2; # the variance of the second dataset\n",
    "cov = 0.85; # this is the covariance (can be thought of as correlation)\n",
    "\n",
    "# covariance matrix\n",
    "cov_m = [[x_var, cov],\n",
    "         [cov, y_var]]\n",
    "\n",
    "while counter < n_datasets :\n",
    "    data = multivariate_normal([x_mu, y_mu], \n",
    "                               cov_m, \n",
    "                               size=siz_datasets)\n",
    "    x, y = data[:,0], data[:,1]\n",
    "    counter = counter + 1\n",
    "\n",
    "    # Make a plot, show it, wait some time\n",
    "    print(\"Plotting dataset: \", counter)\n",
    "    plt.scatter(x, y);\n",
    "    plt.show() ;\n",
    "    plt.pause(0.05)\n",
    "\n",
    "else:\n",
    "    print(\"DONE Plotting datasets!\")"
   ]
  },
  {
   "cell_type": "code",
   "execution_count": null,
   "id": "16aee6b8",
   "metadata": {},
   "outputs": [],
   "source": []
  }
 ],
 "metadata": {
  "kernelspec": {
   "display_name": "Python 3 (ipykernel)",
   "language": "python",
   "name": "python3"
  },
  "language_info": {
   "codemirror_mode": {
    "name": "ipython",
    "version": 3
   },
   "file_extension": ".py",
   "mimetype": "text/x-python",
   "name": "python",
   "nbconvert_exporter": "python",
   "pygments_lexer": "ipython3",
   "version": "3.9.12"
  }
 },
 "nbformat": 4,
 "nbformat_minor": 5
}
