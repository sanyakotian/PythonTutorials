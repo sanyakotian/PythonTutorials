{
 "cells": [
  {
   "cell_type": "markdown",
   "id": "8b1397fb",
   "metadata": {},
   "source": [
    "# FDS Review - October 20th"
   ]
  },
  {
   "cell_type": "markdown",
   "id": "c46f0da5",
   "metadata": {},
   "source": [
    "## Learning goals\n",
    "\n",
    "* to review concepts covered in previous classes\n",
    "    - variable types & containers in python\n",
    "    - loops & logic\n",
    "    - plots with matplotlib\n",
    "* cover a few topics not covered in previous classes but are relevant to topics\n",
    "    - random operator\n",
    "    - sort\n",
    "* a few examples tying everything together\n",
    "    - coding the fibonacci sequence"
   ]
  },
  {
   "cell_type": "markdown",
   "id": "3355524e",
   "metadata": {},
   "source": [
    "## Review: Variable types & containers in python\n",
    "\n",
    "There's many different datatypes in Python, all designed for specific use cases.\n",
    "\n",
    "For example, here's a few of the most common and useful datatypes and their intended purpose:\n",
    "\n",
    "1. **integer (int)**: Integers (int) are used to describe variables with *whole* values, variables not requiring to store decimals. \n",
    "2. **float (float)**: Floats (float) are used to store variables and values that do need decimals to represent them. \n",
    "3. **string (str)**: Strings (str) are used when you need to store text.\n",
    "\n",
    "We can use these datatypes to do many important things, such as storing numerical text values!"
   ]
  },
  {
   "cell_type": "markdown",
   "id": "b02e2819-e0e6-4109-8a0c-eb98fae869d7",
   "metadata": {},
   "source": [
    "You can easily check which type your variable is by using the **type()** function!"
   ]
  },
  {
   "cell_type": "code",
   "execution_count": 1,
   "id": "a016aa65-dfe8-4840-b5f5-bbe5afbc3699",
   "metadata": {},
   "outputs": [
    {
     "data": {
      "text/plain": [
       "(int, float, str)"
      ]
     },
     "execution_count": 1,
     "metadata": {},
     "output_type": "execute_result"
    }
   ],
   "source": [
    "a = 16\n",
    "b = 270.05\n",
    "c = '16'\n",
    "\n",
    "type(a), type(b), type(c)"
   ]
  },
  {
   "cell_type": "markdown",
   "id": "99f783c9-e25a-47b8-b41b-720fee411f39",
   "metadata": {},
   "source": [
    "You can also change variables to different types using the appropriate type function!"
   ]
  },
  {
   "cell_type": "code",
   "execution_count": 2,
   "id": "52ba907b-0a1e-474f-bc5d-f29308f60b06",
   "metadata": {},
   "outputs": [
    {
     "data": {
      "text/plain": [
       "'16'"
      ]
     },
     "execution_count": 2,
     "metadata": {},
     "output_type": "execute_result"
    }
   ],
   "source": [
    "d = str(a)\n",
    "d"
   ]
  },
  {
   "cell_type": "markdown",
   "id": "e90e8c49-54d5-49d2-907a-91c8b640a3d4",
   "metadata": {},
   "source": [
    "Finally, you can use specific mathematical operators to perform arthimetic operations on int and float datatypes!"
   ]
  },
  {
   "cell_type": "code",
   "execution_count": 3,
   "id": "f41c75a6-004f-4b99-9c13-650ed87815a4",
   "metadata": {},
   "outputs": [
    {
     "data": {
      "text/plain": [
       "17.878125"
      ]
     },
     "execution_count": 3,
     "metadata": {},
     "output_type": "execute_result"
    }
   ],
   "source": [
    "e = (a + b) / a\n",
    "e"
   ]
  },
  {
   "cell_type": "markdown",
   "id": "ce2ec15c-d3fc-416b-94e7-502b6cc75e2b",
   "metadata": {},
   "source": [
    "$\\color{blue}{\\text{Complete the following exercise.}}$\n",
    "\n",
    "  - Can you print the following sentence using variables a and b from above?\n",
    "  [Use the cell below to print the following sentence: 'The sum of 16 and 270.05 is 286.05']"
   ]
  },
  {
   "cell_type": "code",
   "execution_count": 12,
   "id": "d14b347c-f5e8-4c9e-af15-3ebf13cbc4d6",
   "metadata": {},
   "outputs": [
    {
     "name": "stdout",
     "output_type": "stream",
     "text": [
      "the sum of 16 and 270.05 is 286.05\n"
     ]
    }
   ],
   "source": [
    "\n",
    "c = a + b\n",
    "print ('the sum of', a, 'and', b, 'is', c)"
   ]
  },
  {
   "cell_type": "markdown",
   "id": "bfd645c8-e6b5-4cb2-b374-2414849c6614",
   "metadata": {},
   "source": [
    "## Review: Variable types & containers in python\n",
    "\n",
    "Once you master datatypes, you can then combine multiple instances of datatypes into data **containers** in python that store multiple values.\n",
    "\n",
    "For example, here's a few of the most common and useful datatypes and their intended purpose:\n",
    "\n",
    "1. **list (list)**: Lists are containers of indexed, ordered and mutable data. They are variables used to contain multiple elements.\n",
    "2. **set (set)**: A set is defined as an unordered, unidexed and immutable collection of items.\n",
    "3. **tuple (tuple)**: Tuples are ordered collections of data. They are similar to lists but immuatable. Whereas you can add new elements to a previously defined lists you cannot do that with Tuples.\n",
    "4. **dictionary (dict)**: A dictionary is an ordered, changeable, collection of items but do not allow duplicates. Dictionaries are defined by pairs of variables where one of the two variables in the pair is generally thought of as a label, the other one as a value.\n",
    "\n",
    "We use containers to store many values in a single variable!"
   ]
  },
  {
   "cell_type": "markdown",
   "id": "3990cabb-2ecf-4b22-b131-60e5a798e9d3",
   "metadata": {},
   "source": [
    "$\\color{blue}{\\text{Complete the following exercise.}}$\n",
    "\n",
    "  - Can you create a list named 'apples' using the following values: 'fuji','gala','granny smith','honeycrisp'?\n",
    "  [Use the cell below to create a list of different types of apples']"
   ]
  },
  {
   "cell_type": "code",
   "execution_count": 13,
   "id": "052c11f1-8789-4b35-bae0-cfef6f697b3e",
   "metadata": {},
   "outputs": [
    {
     "name": "stdout",
     "output_type": "stream",
     "text": [
      "['caramel', 'green', 'red', 'rotten']\n"
     ]
    }
   ],
   "source": [
    "apples = ['caramel', 'green', 'red', 'rotten']\n",
    "print (apples)"
   ]
  },
  {
   "cell_type": "markdown",
   "id": "8acc5db8-6929-4c79-818f-42cd135ce21c",
   "metadata": {},
   "source": [
    "Containers are useful because we can perform arithmetic operations on all the entries inside a container all at once!\n",
    "\n",
    "For example, say we went bowling and wanted to keep track of our performance. Our scores for 5 games were: 97, 105, 84, 150, and 99.\n",
    "\n",
    "Let's compute our average across 5 games!"
   ]
  },
  {
   "cell_type": "code",
   "execution_count": 14,
   "id": "bf2901e8-55eb-40b2-b0ec-b6ec0a1f9a74",
   "metadata": {},
   "outputs": [
    {
     "data": {
      "text/plain": [
       "107.0"
      ]
     },
     "execution_count": 14,
     "metadata": {},
     "output_type": "execute_result"
    }
   ],
   "source": [
    "bowling_scores = [97, 105, 84, 150, 99]\n",
    "bowling_average = sum(bowling_scores) / len(bowling_scores) #len refers to the number of elements in the container\n",
    "bowling_average"
   ]
  },
  {
   "cell_type": "markdown",
   "id": "451dba85-f53f-46c7-874b-466649dd216e",
   "metadata": {},
   "source": [
    "Our average across 5 games was 107! Not too bad!"
   ]
  },
  {
   "cell_type": "markdown",
   "id": "03f0acde-d0e6-477e-b91d-e88030c7f00b",
   "metadata": {},
   "source": [
    "$\\color{blue}{\\text{Complete the following exercise.}}$\n",
    "\n",
    "  - Can you find our average using numpy?\n",
    "  [Use the cell below to find our average bowling score using numpy']"
   ]
  },
  {
   "cell_type": "code",
   "execution_count": 18,
   "id": "244f7fa3-32d2-442b-8dbd-571af2fd928d",
   "metadata": {},
   "outputs": [
    {
     "data": {
      "text/plain": [
       "107.0"
      ]
     },
     "execution_count": 18,
     "metadata": {},
     "output_type": "execute_result"
    }
   ],
   "source": [
    "import numpy as np\n",
    "bowling_average2 = np.average(bowling_scores) #numpy has a lot of functions and it can call the function average on a data set and give us the average. \n",
    "bowling_average2"
   ]
  },
  {
   "cell_type": "markdown",
   "id": "3924b5be-fddd-443a-bea5-23a188a0b2cf",
   "metadata": {},
   "source": [
    "## Review: Loops & logic\n",
    "\n",
    "Once you master containers, you can start leveraging python's **Control flow** to do some more detailed information processing. **Control flow** comprises of the set of commands available in a programming language to control the flow of information processing, just like the instructions above control your navigation.\n",
    "\n",
    "For our purposes, the two most important features of python's control flow are `for` and `while` loops. The `for` loop runs a calculation for a predetermined number of times, and a `while` loop runs a calculation until a criterion is met.\n",
    "\n",
    "These are two of the most powerful and important functions availble to us in python for data analysis!\n",
    "\n",
    "With loops, we can also perform logical operations, such as `greater than (>)`, `less than (<)`, or `equal to (==)` between each element of two variables."
   ]
  },
  {
   "cell_type": "markdown",
   "id": "e4eb98c7-637c-4f3c-a31f-822d3a5685dc",
   "metadata": {},
   "source": [
    "For example, say we want to compare the performance between three different players (A, B, and C) across 10 rounds of Geoguesser, a game in which you have to guess what part of the world you're in just from Google Street images. The goal of the game is to get the closest to the actual location (i.e. have the least amount of miles between your guess and the actual location). The performance of each player is stored below in a list."
   ]
  },
  {
   "cell_type": "code",
   "execution_count": 55,
   "id": "4fb9e2c9-bc41-4fa4-ab33-d66f112e56c0",
   "metadata": {},
   "outputs": [],
   "source": [
    "player_A = [644,73,829,584,359,459,8,875,697,854]\n",
    "player_B = [175,51,28,1029,1502,12,85,100,4820,20]\n",
    "player_C = [654,856,783,75,171,361,779,397,192,90]"
   ]
  },
  {
   "cell_type": "markdown",
   "id": "15bbe318-2905-4a0c-99d2-f165a603e670",
   "metadata": {},
   "source": [
    "We can build a for loop that goes through each match and identifies which player won each round, and we can see who is the best GeoGuesser!"
   ]
  },
  {
   "cell_type": "code",
   "execution_count": 50,
   "id": "744249a5-a7af-44fb-8912-b7a51fa2c5b6",
   "metadata": {},
   "outputs": [
    {
     "data": {
      "text/plain": [
       "['B', 'B', 'B', 'C', 'C', 'B', 'A', 'B', 'C', 'B']"
      ]
     },
     "execution_count": 50,
     "metadata": {},
     "output_type": "execute_result"
    }
   ],
   "source": [
    "winners = []\n",
    "for i in range(len(player_A)):# go through all the instances and builds a loop. #we are checking for the player with the least number of miles, aka the winner.\n",
    "    #check for whoch player has the least miles\n",
    "    if player_A[i] < player_B[i] and player_A[i] <  player_C[i]: \n",
    "        winners = winners + ['A']\n",
    "    elif player_B[i] < player_A[i] and player_B[i] <  player_C[i]:\n",
    "        winners = winners + ['B']\n",
    "    elif player_C[i] < player_A[i] and player_C[i] <  player_B[i]:\n",
    "        winners = winners + ['C']\n",
    "        \n",
    "winners"
   ]
  },
  {
   "cell_type": "markdown",
   "id": "37d811c3-4b86-4a8e-84d9-f107c1dce4f1",
   "metadata": {},
   "source": [
    "Now let's identify who was the ultimate winner!"
   ]
  },
  {
   "cell_type": "code",
   "execution_count": 51,
   "id": "aa4056b0-2cc3-4575-a231-854131c0edd7",
   "metadata": {},
   "outputs": [
    {
     "name": "stdout",
     "output_type": "stream",
     "text": [
      "The winner is player B with 6 wins!\n"
     ]
    }
   ],
   "source": [
    "if winners.count('A') > winners.count('B') and winners.count('A') > winners.count('C'):\n",
    "    print('The winner is player A with %s wins!' %str(winners.count('A')))\n",
    "elif winners.count('B') > winners.count('C'):\n",
    "    print('The winner is player B with %s wins!' %str(winners.count('B')))\n",
    "else:\n",
    "    print('The winner is player C with %s wins!' %str(winners.count('C')))"
   ]
  },
  {
   "cell_type": "markdown",
   "id": "6d06ac07-6dd9-456f-a0b8-0525664474d6",
   "metadata": {},
   "source": [
    "$\\color{blue}{\\text{Complete the following exercise.}}$\n",
    "\n",
    "  - Say you started playing some GeoGuesser and wanted to test your performance to the other players. Your scores were: 290, 41, 53, 10, 22, 718, 85, 9, 91, 6. Are you the GeoGuesser champion?\n",
    "  [Use the cell below to build a list of your scores, and loop through all 10 matches to identify the winner']"
   ]
  },
  {
   "cell_type": "code",
   "execution_count": 21,
   "id": "2eda6689-892d-414e-921b-45129a946009",
   "metadata": {},
   "outputs": [
    {
     "ename": "IndentationError",
     "evalue": "unindent does not match any outer indentation level (<tokenize>, line 6)",
     "output_type": "error",
     "traceback": [
      "\u001b[0;36m  File \u001b[0;32m<tokenize>:6\u001b[0;36m\u001b[0m\n\u001b[0;31m    elif player_B[i] < player_A[i] and player_B[i] <  player_C[i]:\u001b[0m\n\u001b[0m    ^\u001b[0m\n\u001b[0;31mIndentationError\u001b[0m\u001b[0;31m:\u001b[0m unindent does not match any outer indentation level\n"
     ]
    }
   ],
   "source": [
    "me = [290.41, 53.10, 22.718, 85.9, 91.6]\n",
    "winners = []\n",
    "for i in range(len(player_A)):\n",
    "     if player_A[i] < player_B[i] and player_A[i] <  player_C[i]: \n",
    "        winners = winners + ['A']\n",
    "    elif player_B[i] < player_A[i] and player_B[i] <  player_C[i]:\n",
    "        winners = winners + ['B']\n",
    "    elif player_C[i] < player_A[i] and player_C[i] <  player_B[i]:\n",
    "        winners = winners + ['C']\n",
    "        "
   ]
  },
  {
   "cell_type": "markdown",
   "id": "3effa04c-b55a-4537-8fe0-688758f8ec84",
   "metadata": {},
   "source": [
    "## New topics not covered: Generating random values\n",
    "\n",
    "So far, y'all have covered a lot of great python! However, there's a whole ocean of python functionality that can be helpful for your data analysis needs! I just wanted to cover a few quick ones that might come up routinely!\n",
    "\n",
    "Sometimes, in data analysis, you'll need to build distributions of `random numbers`. Instead of trying to come up with random values off the top of your head, you can use the power of python to generate your random distributions for you!\n",
    "\n",
    "There's multiple ways to do this, but since you've already gone over numpy, I figured we could use the `numpy.random` function! Here is the help documentation for the random function in numpy: https://numpy.org/doc/1.16/reference/routines.random.html.\n",
    "\n",
    "For the scope of this course, it will helpful to go over is `np.random.random_sample`. This wonderful function allows us to build random arrays of any shape we need!"
   ]
  },
  {
   "cell_type": "markdown",
   "id": "317fb618-5124-4cc1-81ae-c46eaa6c8aaa",
   "metadata": {},
   "source": [
    "For example, say we wanted to build two random distributions of 100 values. We can use np.random.random_sample and the `size=` argument to set our desired array shape!"
   ]
  },
  {
   "cell_type": "code",
   "execution_count": 89,
   "id": "98d2ce04-d5f3-41c3-8111-8835486e6518",
   "metadata": {},
   "outputs": [
    {
     "data": {
      "text/plain": [
       "array([[0.8631913 , 0.27337407, 0.31428637, 0.38999947, 0.18964488,\n",
       "        0.3497288 , 0.64962194, 0.62743393, 0.45112403, 0.03985116,\n",
       "        0.23562291, 0.01037688, 0.59561437, 0.98789535, 0.61654433,\n",
       "        0.45568536, 0.90828872, 0.93525946, 0.21701282, 0.45402169,\n",
       "        0.99529036, 0.59006154, 0.86086566, 0.27990314, 0.60280266,\n",
       "        0.46666107, 0.10154876, 0.95139238, 0.24119517, 0.55753279,\n",
       "        0.40702392, 0.07921747, 0.69467075, 0.03625708, 0.64203397,\n",
       "        0.90245777, 0.0433472 , 0.62001583, 0.83182689, 0.50196974,\n",
       "        0.17605587, 0.72138136, 0.07117965, 0.49867802, 0.68482722,\n",
       "        0.41779641, 0.56177589, 0.83389627, 0.77596419, 0.98479764,\n",
       "        0.32400079, 0.75691054, 0.63115554, 0.64165578, 0.8773434 ,\n",
       "        0.36899068, 0.47275357, 0.1232486 , 0.52190055, 0.91955111,\n",
       "        0.00712462, 0.17982463, 0.17908996, 0.98585711, 0.57025201,\n",
       "        0.68240467, 0.12582862, 0.89841611, 0.59569813, 0.25242594,\n",
       "        0.47239288, 0.56153588, 0.25516039, 0.64198963, 0.2175304 ,\n",
       "        0.40930494, 0.58513408, 0.07663357, 0.86524737, 0.52686058,\n",
       "        0.73875933, 0.42003237, 0.37873236, 0.37849267, 0.704277  ,\n",
       "        0.59549271, 0.20388813, 0.49386444, 0.11419256, 0.92376309,\n",
       "        0.09275795, 0.22785133, 0.17671636, 0.07629518, 0.22033212,\n",
       "        0.41717835, 0.53453722, 0.10338196, 0.30058974, 0.54762192],\n",
       "       [0.68170439, 0.42665107, 0.3212441 , 0.94674017, 0.38349179,\n",
       "        0.43434897, 0.52831545, 0.65662932, 0.96182971, 0.45061207,\n",
       "        0.64300647, 0.78690567, 0.26760627, 0.76806768, 0.4471078 ,\n",
       "        0.39930218, 0.08914615, 0.65330548, 0.62543581, 0.12534233,\n",
       "        0.60099525, 0.29045567, 0.82445575, 0.11028759, 0.90147076,\n",
       "        0.41775865, 0.33688488, 0.71362997, 0.99975856, 0.29069624,\n",
       "        0.10858248, 0.86905606, 0.66925563, 0.11617668, 0.55469542,\n",
       "        0.8578    , 0.14208857, 0.27160176, 0.83994599, 0.98593538,\n",
       "        0.15528979, 0.96424672, 0.3519618 , 0.5031743 , 0.07962403,\n",
       "        0.76757362, 0.33342195, 0.63955782, 0.49212805, 0.28095871,\n",
       "        0.44073946, 0.42671831, 0.52353203, 0.63978161, 0.168721  ,\n",
       "        0.61515731, 0.78611352, 0.24556439, 0.05564809, 0.49032128,\n",
       "        0.830295  , 0.12119218, 0.1511612 , 0.94263014, 0.28646639,\n",
       "        0.6877023 , 0.90471481, 0.0577765 , 0.73950977, 0.42320595,\n",
       "        0.1646247 , 0.46127022, 0.57556702, 0.58850008, 0.62953813,\n",
       "        0.39987045, 0.95373024, 0.4529972 , 0.29421427, 0.71637793,\n",
       "        0.73211086, 0.01923172, 0.8301397 , 0.25029915, 0.06909086,\n",
       "        0.86436455, 0.9207538 , 0.92179799, 0.66894183, 0.40368596,\n",
       "        0.32816781, 0.95159703, 0.37868692, 0.75510108, 0.56931586,\n",
       "        0.99948177, 0.97529231, 0.51810694, 0.09900699, 0.71209739]])"
      ]
     },
     "execution_count": 89,
     "metadata": {},
     "output_type": "execute_result"
    }
   ],
   "source": [
    "random_distributions = np.random.random_sample(size=(2,100))\n",
    "random_distributions"
   ]
  },
  {
   "cell_type": "markdown",
   "id": "664a4583-85ff-42ce-bd11-f10b42aa5d5e",
   "metadata": {},
   "source": [
    "Great! Now, let's shift one of the distributions by 1"
   ]
  },
  {
   "cell_type": "code",
   "execution_count": 90,
   "id": "ca005427-65a6-4594-8756-a94f1170541c",
   "metadata": {},
   "outputs": [],
   "source": [
    "random_distributions[0] = random_distributions[0]+ 0.5"
   ]
  },
  {
   "cell_type": "markdown",
   "id": "38bcfaa9-bdba-4136-9e12-073dffb15ef8",
   "metadata": {},
   "source": [
    "Finally, let's visualize the two distributions on top of each other using matplotlib.pyplot.hist!"
   ]
  },
  {
   "cell_type": "code",
   "execution_count": 147,
   "id": "3ba60359-adcb-489d-b842-3372702cf2f2",
   "metadata": {},
   "outputs": [
    {
     "data": {
      "image/png": "[encoded data removed]",
      "text/plain": [
       "<Figure size 360x360 with 1 Axes>"
      ]
     },
     "metadata": {
      "needs_background": "light"
     },
     "output_type": "display_data"
    }
   ],
   "source": [
    "import matplotlib.pyplot as plt\n",
    "fig = plt.figure(figsize=(5,5))\n",
    "axes = plt.gca() # this grabs the axis data\n",
    "\n",
    "# We can set the number of bins with the *bins* keyword argument.\n",
    "axes.hist(random_distributions[0], bins=8, color='b',alpha=.5)\n",
    "axes.hist(random_distributions[1], bins=8, color='r',alpha=.5)\n",
    "\n",
    "# set titles and labels\n",
    "plt.xlabel('Value', fontsize = 18);\n",
    "plt.ylabel('Count', fontsize = 18);\n",
    "plt.title('Two Randomized Distributions', fontsize = 20,);"
   ]
  },
  {
   "cell_type": "markdown",
   "id": "540498f6-952c-4925-bb3a-b9687ab508f5",
   "metadata": {},
   "source": [
    "$\\color{blue}{\\text{Complete the following exercise.}}$\n",
    "\n",
    "  - Say you want to compare your test scores across 10 exams to a randomized distribution. Your test scores were .85, .90, .75, .82, .88, .90, .95, .99, .90, .92. Can you build a histogram comparing your scores to the randomized distribtion?\n",
    "  [Use the cell below to build a list of your scores, create a randomized distribution of 10 values, and generate a histogram figure of the two distributions in different colors']"
   ]
  },
  {
   "cell_type": "code",
   "execution_count": null,
   "id": "a5a4fd4e-5df2-4972-8cb2-ad855064bd45",
   "metadata": {},
   "outputs": [],
   "source": []
  },
  {
   "cell_type": "markdown",
   "id": "f81fd31e-f083-4ad1-9b38-9bbef576454d",
   "metadata": {},
   "source": [
    "## New topics not covered: Sorting values\n",
    "\n",
    "Sometimes, it's super helpful to sort values in order in terms of alpha-numerics! If you ever want to go into industry, you might find a future employer asking you to build some code to do this task as part of your interview! Writing your own function for sorting can be a bit of a challenge, but fortunately, for this class, we can use python's internal `sorted` function!\n",
    "\n",
    "The `sorted` function will automagically sort your data arrays by their alpha-numeric order! It can even sort your data either in ascending or descending order!"
   ]
  },
  {
   "cell_type": "markdown",
   "id": "6051fea9-3e79-4828-a7a7-d7b899374abe",
   "metadata": {},
   "source": [
    "Say we want to sort a random array of 10000 values! We can use the random functionality from numpy in combination with the sorted function to sort our data for us!"
   ]
  },
  {
   "cell_type": "code",
   "execution_count": 159,
   "id": "384437d1-2e8d-44c4-b2d5-807ba4855950",
   "metadata": {},
   "outputs": [
    {
     "data": {
      "text/plain": [
       "array([14.87209838, 90.06301238, 21.18390646, ..., 61.21547104,\n",
       "       97.15411546, 15.31049747])"
      ]
     },
     "execution_count": 159,
     "metadata": {},
     "output_type": "execute_result"
    }
   ],
   "source": [
    "random_data = np.random.random_sample(10000)*100\n",
    "random_data"
   ]
  },
  {
   "cell_type": "markdown",
   "id": "751ae3d1-e1e2-48f2-b96a-c5be2991930c",
   "metadata": {},
   "source": [
    "Now that we have our random data array, let's get sortin!\n",
    "\n",
    "First, let's find the highest value in the data by sorting our data and grabbing the top entry!"
   ]
  },
  {
   "cell_type": "code",
   "execution_count": 165,
   "id": "7d711e7f-b1eb-4913-9bff-810c9da2d513",
   "metadata": {},
   "outputs": [
    {
     "data": {
      "text/plain": [
       "99.99981543685314"
      ]
     },
     "execution_count": 165,
     "metadata": {},
     "output_type": "execute_result"
    }
   ],
   "source": [
    "sorted_random_data = sorted(random_data,reverse=True) # reverse = True will sort the data from largest to smallest\n",
    "max_value = sorted_random_data[0]\n",
    "max_value"
   ]
  },
  {
   "cell_type": "markdown",
   "id": "3d1e8a92-94f6-4fb8-81a0-3effb848d12f",
   "metadata": {},
   "source": [
    "Great! Now let's find the minimum value!"
   ]
  },
  {
   "cell_type": "code",
   "execution_count": 164,
   "id": "3e9c26dc-458f-4eb6-884e-a6d2cc06c7c7",
   "metadata": {},
   "outputs": [
    {
     "data": {
      "text/plain": [
       "0.0016856444857715758"
      ]
     },
     "execution_count": 164,
     "metadata": {},
     "output_type": "execute_result"
    }
   ],
   "source": [
    "sorted_random_data = sorted(random_data,reverse=False) # reverse = False will sort the data from smallest to largest\n",
    "min_value = sorted_random_data[0]\n",
    "min_value"
   ]
  },
  {
   "cell_type": "markdown",
   "id": "4bf9af19-1131-40a4-ac78-f573ddd0559e",
   "metadata": {},
   "source": [
    "Excellent! Not only can we use sorted for numerical data, but we can even use sorted on string arrays!"
   ]
  },
  {
   "cell_type": "code",
   "execution_count": 170,
   "id": "cc2bfbff-eb3f-4250-b2a7-f7e9e60a9823",
   "metadata": {},
   "outputs": [
    {
     "data": {
      "text/plain": [
       "['Fun', 'Is', 'Much', 'Python', 'So']"
      ]
     },
     "execution_count": 170,
     "metadata": {},
     "output_type": "execute_result"
    }
   ],
   "source": [
    "string_data = ['Python','Is','So','Much','Fun']\n",
    "sorted_string_data = sorted(string_data)\n",
    "sorted_string_data"
   ]
  },
  {
   "cell_type": "markdown",
   "id": "cc60e357-e427-4acc-89e4-7a8b27ad28ea",
   "metadata": {},
   "source": [
    "You can even do it on dictionaries, with a little bit of magic! Speficially, you need to use something called the \"lambda operator\". It's not fully important to understand it's exact intracacies, but it's basically a way to do loops within functions."
   ]
  },
  {
   "cell_type": "code",
   "execution_count": 185,
   "id": "fad9a85a-1163-41d5-ab73-b455880bee3f",
   "metadata": {},
   "outputs": [
    {
     "data": {
      "text/plain": [
       "[('one', 1), ('two', 2), ('three', 3), ('four', 4), ('five', 5)]"
      ]
     },
     "execution_count": 185,
     "metadata": {},
     "output_type": "execute_result"
    }
   ],
   "source": [
    "d = {'one':1,'three':3,'five':5,'two':2,'four':4}\n",
    "sorted(d.items(),key=lambda x: x[1])"
   ]
  },
  {
   "cell_type": "markdown",
   "id": "503bc2c0-3f48-4cc0-bea8-117ae9d71084",
   "metadata": {},
   "source": [
    "$\\color{blue}{\\text{Complete the following exercise.}}$\n",
    "\n",
    "  - Say you run a business, and you want to identify what your top selling object is. You sell the following items: laptops, video games, calculators, and t-shirts. This month, you sold 10 laptops, 50 video games, 25 calculators, and 1 t-shirt. Can you build a dictionary of your selling products, sort the dictionary from highest seller to lowest, and identify the highest selling item?\n",
    "  [Use the cell below to build a dictionary, sort the dictionary from highest to lowest, and print out the top selling item']"
   ]
  },
  {
   "cell_type": "code",
   "execution_count": null,
   "id": "261ff32a-1557-489c-a356-0b950a257c75",
   "metadata": {},
   "outputs": [],
   "source": []
  },
  {
   "cell_type": "markdown",
   "id": "6fc444e3-d946-4cfd-b61e-463036e21dea",
   "metadata": {},
   "source": [
    "## Fun exercise\n",
    "\n",
    "Let's do a fun exercise combining all of the useful python functionality we've discussed! For this, I thought we could build and visualize the `Fibonacci sequence`. The Fibonacci sequence, first documented as early as 400 BC, is a sequence in which each number is the sum of the two preceding ones: `F(n) = F(n-1) + F(n-2)...`. This sequence is famously related to the `golden ratio`, which has been found in many aspects of life including the distribution of flower pedals on a flower to the beautiful artwork coming from the great Renaissance painters!\n",
    "\n",
    "In python, it's fairly easy to build this sequence for any N terms!"
   ]
  },
  {
   "cell_type": "code",
   "execution_count": 128,
   "id": "f8571490-92f7-45b8-a621-82b45e4a58ae",
   "metadata": {},
   "outputs": [
    {
     "data": {
      "text/plain": [
       "array([0., 1., 1., 2., 3.])"
      ]
     },
     "execution_count": 128,
     "metadata": {},
     "output_type": "execute_result"
    }
   ],
   "source": [
    "fibonacci_sequence = np.array([])\n",
    "\n",
    "for i in range(5):\n",
    "    if i < 2:\n",
    "        fibonacci_sequence = np.append(fibonacci_sequence,i) # np.append will append a value to a numpy array\n",
    "    else:\n",
    "        fibonacci_sequence = np.append(fibonacci_sequence,fibonacci_sequence[i-1]+fibonacci_sequence[i-2])\n",
    "fibonacci_sequence"
   ]
  },
  {
   "cell_type": "markdown",
   "id": "789a3e65-a293-4a71-9bba-d49e01099e7c",
   "metadata": {},
   "source": [
    "$\\color{blue}{\\text{Complete the following exercise.}}$\n",
    "\n",
    "  - Can you do the following:\n",
    "      - Update the for loop to generate the first 100 values of the Fibonacci sequence\n",
    "      - Generate a line plot of the first 100 values, with the x-axis being the Nth digit and the y-axis being the Fibonacci number at that digit\n",
    "      - Count the number of odd and even values in the first 100 digits of the Fibonacci sequence\n",
    "  [Use the cells below to compute the first 100 digits of the Fibonacci sequence, generate a line plot of the sequence with the x-axis being the digit count and the y-axis being the fibonacci number, and finally count the number of even and odd values in these first 100 digits.']"
   ]
  },
  {
   "cell_type": "code",
   "execution_count": null,
   "id": "acb782dc-583e-4c28-9493-86c8582cc24e",
   "metadata": {},
   "outputs": [],
   "source": [
    "# compute the first 100 digits of the Fibonacci sequence"
   ]
  },
  {
   "cell_type": "code",
   "execution_count": null,
   "id": "1031c3b3-fb23-4a6c-90b4-42a0d878a5d0",
   "metadata": {},
   "outputs": [],
   "source": [
    "# generate a lineplot figure of the first 100 digits. Make the figure size 10,10, add Title and axis labels, and make the line color green"
   ]
  },
  {
   "cell_type": "code",
   "execution_count": null,
   "id": "d3ff1c0d-99b5-4206-a4f9-010d471df8e4",
   "metadata": {},
   "outputs": [],
   "source": [
    "# count the number of odd and even digits in the first 100 digits in the sequence. HINT: You can use % 2 to identify if a number is divisble by 2. You can also use len() and np.where() functions in combination to count the number of evens and odds"
   ]
  }
 ],
 "metadata": {
  "kernelspec": {
   "display_name": "Python 3 (ipykernel)",
   "language": "python",
   "name": "python3"
  },
  "language_info": {
   "codemirror_mode": {
    "name": "ipython",
    "version": 3
   },
   "file_extension": ".py",
   "mimetype": "text/x-python",
   "name": "python",
   "nbconvert_exporter": "python",
   "pygments_lexer": "ipython3",
   "version": "3.9.12"
  }
 },
 "nbformat": 4,
 "nbformat_minor": 5
}
