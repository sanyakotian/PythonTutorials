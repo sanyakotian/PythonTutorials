{
 "cells": [
  {
   "cell_type": "markdown",
   "id": "45b43bea",
   "metadata": {},
   "source": [
    "# Pandas I - Introduction to fundamental objects"
   ]
  },
  {
   "cell_type": "markdown",
   "id": "3d5be580",
   "metadata": {},
   "source": [
    "`pandas` is the Python library that structures and simplifies data manipulation and analysis. The name, pandas is derived by **pan**el and **da**ta. The library indeed focusses on representing data as tables (`DataFrames`), indices (`Index`) and data series (`Series`). "
   ]
  },
  {
   "cell_type": "markdown",
   "id": "5a9febac",
   "metadata": {},
   "source": [
    "|  |  |  |  |\n",
    "| --- | --- | --- | --- | \n",
    "|<img src=\"./assets/jnb021/Panda_Cub_from_Wolong,_Sichuan,_China.jpeg\" alt=\"Drawing\" style=\"width: 300px;\"/> | <img src=\"./assets/jnb021/Panda_Cub_from_Wolong,_Sichuan,_China.jpeg\" alt=\"Drawing\" style=\"width: 300px;\"/> | <img src=\"./assets/jnb021/Panda_Cub_from_Wolong,_Sichuan,_China.jpeg\" alt=\"Drawing\" style=\"width: 300px;\"/> | <img src=\"./assets/jnb021/Panda_Cub_from_Wolong,_Sichuan,_China.jpeg\" alt=\"Drawing\" style=\"width: 300px;\"/> |"
   ]
  },
  {
   "cell_type": "markdown",
   "id": "ac904f7e",
   "metadata": {},
   "source": [
    "`pandas` uses `NumPy` arrays to represent data. It provides specific functions to manipulated data as `code objects`. This means that to use pandas you need to import also NumPy. `pandas` requires and builds on top of `NumPy`.\n",
    "\n",
    "There are three main data object types in pandas:\n",
    "\n",
    "  - `Series` - A mutable, one-dimensional array of indexed data.\n",
    "  - `DataFrames` - A two-dimensional, size-mutable, potentially heterogeneous tabulated data structure.\n",
    "  - `Index` -  An one-dimensional, immutable array or ordered set (technically a multi-set, as Index objects may contain repeated values).\n",
    "\n",
    "Below we will learn a little bit more about these three data objects."
   ]
  },
  {
   "cell_type": "markdown",
   "id": "4dea46c0",
   "metadata": {},
   "source": [
    "###### A short history of Pandas.\n",
    "Wes McKinney started developing what then became pandas while working at the capital management firm Applied Quantitative Research (AQR). Pandas was developed initially as a closed-source project and was made open source in 2009. Pandas is sponsored by [NumFOCUS, Inc.](https://numfocus.org/) that promotes support and sponsorships of python based open source code. "
   ]
  },
  {
   "cell_type": "code",
   "execution_count": 87,
   "id": "c7b31003",
   "metadata": {},
   "outputs": [],
   "source": [
    "import numpy as np\n",
    "import pandas as pd"
   ]
  },
  {
   "cell_type": "markdown",
   "id": "61a4e23d",
   "metadata": {},
   "source": [
    "### The pandas `Series` object\n",
    "\n",
    "`Series` are dictionary-like objects. Pandas Series is a one-dimensional array that comes with labels assigned. They are similar to NumPy one-dimensional arrays but they are labeled or indexed. So they are built on top of NumPy arrays but come with additional functionality as well as constrains. They can be thought of as a specification of NumPy arrays. For example, let's evaluate the code below."
   ]
  },
  {
   "cell_type": "markdown",
   "id": "34454c45",
   "metadata": {},
   "source": [
    "First we define a pandas Series objects and assign a set of string values to the elements of the object:"
   ]
  },
  {
   "cell_type": "code",
   "execution_count": 88,
   "id": "c9a07992",
   "metadata": {},
   "outputs": [],
   "source": [
    "data = pd.Series(['a', 'b', 'c', 'd'])"
   ]
  },
  {
   "cell_type": "markdown",
   "id": "7d145b3e",
   "metadata": {},
   "source": [
    "After defining the object let's explore it."
   ]
  },
  {
   "cell_type": "code",
   "execution_count": 89,
   "id": "cc666d89",
   "metadata": {},
   "outputs": [
    {
     "name": "stdout",
     "output_type": "stream",
     "text": [
      "0    a\n",
      "1    b\n",
      "2    c\n",
      "3    d\n",
      "dtype: object\n"
     ]
    }
   ],
   "source": [
    "print (data)"
   ]
  },
  {
   "cell_type": "markdown",
   "id": "a0cf8b83",
   "metadata": {},
   "source": [
    "The data type is defined as `object`, the values we assigned are stored in the second column. The first column is the `index` automatically assigned by pandas to each value. Now, exch value comes with an index. This is a foundamental data organization aspect of pandas. Values always have indeces, because pandas deals with panel data, i.e., tables. So even a one-dimensional array as a Series is assigned indices just like a table is.\n",
    "\n",
    "We will discuss pandas index objects later."
   ]
  },
  {
   "cell_type": "markdown",
   "id": "1d651861",
   "metadata": {},
   "source": [
    "A Pandas Series can be created directly by assigning values into an array (using `[]`), and that array to a series (`pd.Series()`). Yet, the final product of that series definition create something different than an Array. It creates a set of pairs of values where a label (`index`) is associated to a corresponding value. \n",
    "\n",
    "Series are capable of holding data of any type (integer, string, float, python objects, etc.).  For example:"
   ]
  },
  {
   "cell_type": "code",
   "execution_count": 90,
   "id": "2b82ffce",
   "metadata": {},
   "outputs": [
    {
     "name": "stdout",
     "output_type": "stream",
     "text": [
      "0    string\n",
      "1        10\n",
      "2       NaN\n",
      "3      0.01\n",
      "dtype: object\n"
     ]
    }
   ],
   "source": [
    "data = pd.Series(['string',10, np.nan,0.01])\n",
    "print(data)"
   ]
  },
  {
   "cell_type": "markdown",
   "id": "d50e53ee",
   "metadata": {},
   "source": [
    "Once the Series object is created, the Index is created and it becomes part of the methods of the Series object. This means that the Index to the entries can be retrieved and used to address the corresponding entry. For example, we can call the `Index` as a method and it will return the range, with the min value, the max value and the steps in btween them:"
   ]
  },
  {
   "cell_type": "code",
   "execution_count": 91,
   "id": "922598f7",
   "metadata": {},
   "outputs": [
    {
     "data": {
      "text/plain": [
       "RangeIndex(start=0, stop=4, step=1)"
      ]
     },
     "execution_count": 91,
     "metadata": {},
     "output_type": "execute_result"
    }
   ],
   "source": [
    "data.index"
   ]
  },
  {
   "cell_type": "markdown",
   "id": "805bffef",
   "metadata": {},
   "source": [
    "The index can be used to address the corresponding value in the Series object:"
   ]
  },
  {
   "cell_type": "code",
   "execution_count": 92,
   "id": "bf19e0f6",
   "metadata": {},
   "outputs": [
    {
     "data": {
      "text/plain": [
       "0    string\n",
       "1        10\n",
       "2       NaN\n",
       "dtype: object"
      ]
     },
     "execution_count": 92,
     "metadata": {},
     "output_type": "execute_result"
    }
   ],
   "source": [
    "data[0:3]"
   ]
  },
  {
   "cell_type": "markdown",
   "id": "20f4c8f0",
   "metadata": {},
   "source": [
    "Because the Index in pandas is explictly defined and it becomes a method (this is in contrast with NumPy arrays where indices are impliclty defined and hence not addressable or callable), the pandas Series object becomes much more useful and strctured.\n",
    "\n",
    "For example, we can create a Series object by explictly assigning values and indices:"
   ]
  },
  {
   "cell_type": "code",
   "execution_count": 93,
   "id": "9a7be44d",
   "metadata": {},
   "outputs": [
    {
     "name": "stdout",
     "output_type": "stream",
     "text": [
      "0    string\n",
      "3        10\n",
      "2       NaN\n",
      "4      0.01\n",
      "dtype: object\n"
     ]
    }
   ],
   "source": [
    "data1 = pd.Series(['string',10, np.nan,0.01],index=[0,3,2,4])\n",
    "\n",
    "print(data1)"
   ]
  },
  {
   "cell_type": "markdown",
   "id": "60ba7477",
   "metadata": {},
   "source": [
    "Even though `data` and `data1` might look the same, they are not. The indices are different:"
   ]
  },
  {
   "cell_type": "code",
   "execution_count": 94,
   "id": "95d407e0",
   "metadata": {},
   "outputs": [
    {
     "name": "stdout",
     "output_type": "stream",
     "text": [
      "RangeIndex(start=0, stop=4, step=1)\n",
      "Int64Index([0, 3, 2, 4], dtype='int64')\n"
     ]
    }
   ],
   "source": [
    "print(data.index)\n",
    "print(data1.index)"
   ]
  },
  {
   "cell_type": "markdown",
   "id": "6e0ac49c",
   "metadata": {},
   "source": [
    "So, that, if we address the second entry in either object we will get different values:"
   ]
  },
  {
   "cell_type": "code",
   "execution_count": 95,
   "id": "afd59fa4",
   "metadata": {},
   "outputs": [
    {
     "name": "stdout",
     "output_type": "stream",
     "text": [
      "0.01\n",
      "10\n"
     ]
    }
   ],
   "source": [
    "print(data[3])\n",
    "print(data1[3])"
   ]
  },
  {
   "cell_type": "markdown",
   "id": "55391426",
   "metadata": {},
   "source": [
    "One way to think about pandas Series objects is that they are dictionaries where a label is paired to a value, say `label 1` is assigned to `value 1`, or `label 2` to `value 3` etc. Indeed, a pandas Series object can be constructed by hand building a dictionary a set of pairing of labels and values. \n",
    "\n",
    "For example, let's build a [Python dictionary](https://docs.python.org/3/tutorial/datastructures.html#dictionaries) of cognitive health. The dictionary pairs a label to a value: "
   ]
  },
  {
   "cell_type": "code",
   "execution_count": 96,
   "id": "a83b43b0",
   "metadata": {},
   "outputs": [],
   "source": [
    "cognitive_health = {'happiness':10,\n",
    "                    'language': 2, \n",
    "                    'energy': 5, \n",
    "                    'memory': 3}"
   ]
  },
  {
   "cell_type": "markdown",
   "id": "b16c8251",
   "metadata": {},
   "source": [
    "Note that python dictionaries have attributes (you can type `cognitive_health.` and press `tab` twice to get a list of attributes), yet the python dictionary does not have `index` as an attribute. \n",
    "\n",
    "The following line will return an error."
   ]
  },
  {
   "cell_type": "code",
   "execution_count": 97,
   "id": "7ddea7ea",
   "metadata": {},
   "outputs": [
    {
     "ename": "AttributeError",
     "evalue": "'dict' object has no attribute 'index'",
     "output_type": "error",
     "traceback": [
      "\u001b[0;31m---------------------------------------------------------------------------\u001b[0m",
      "\u001b[0;31mAttributeError\u001b[0m                            Traceback (most recent call last)",
      "Input \u001b[0;32mIn [97]\u001b[0m, in \u001b[0;36m<cell line: 1>\u001b[0;34m()\u001b[0m\n\u001b[0;32m----> 1\u001b[0m \u001b[43mcognitive_health\u001b[49m\u001b[38;5;241;43m.\u001b[39;49m\u001b[43mindex\u001b[49m\n",
      "\u001b[0;31mAttributeError\u001b[0m: 'dict' object has no attribute 'index'"
     ]
    }
   ],
   "source": [
    "cognitive_health.index"
   ]
  },
  {
   "cell_type": "markdown",
   "id": "c87fcc77",
   "metadata": {},
   "source": [
    "Python dictionaries can be used to set pandas Series directly:"
   ]
  },
  {
   "cell_type": "code",
   "execution_count": 98,
   "id": "6e29c05c",
   "metadata": {},
   "outputs": [],
   "source": [
    "cognitive_health_Series = pd.Series(cognitive_health)"
   ]
  },
  {
   "cell_type": "markdown",
   "id": "47d117e7",
   "metadata": {},
   "source": [
    "The dictionary has been made into a panda Series and it is now ordered and labelled. So, the following operation will not return an error, but the labels of the Series (the indices):"
   ]
  },
  {
   "cell_type": "code",
   "execution_count": 99,
   "id": "f7ef31a0",
   "metadata": {},
   "outputs": [
    {
     "data": {
      "text/plain": [
       "Index(['happiness', 'language', 'energy', 'memory'], dtype='object')"
      ]
     },
     "execution_count": 99,
     "metadata": {},
     "output_type": "execute_result"
    }
   ],
   "source": [
    "cognitive_health_Series.index"
   ]
  },
  {
   "cell_type": "markdown",
   "id": "49c2fc02",
   "metadata": {},
   "source": [
    "Another important property that the pandas Series have and python dictionaries do not is the ability to allow slicing. Whereas, a dictionary would return an error if called as follows:"
   ]
  },
  {
   "cell_type": "code",
   "execution_count": 100,
   "id": "d324e8d0",
   "metadata": {},
   "outputs": [
    {
     "ename": "TypeError",
     "evalue": "unhashable type: 'slice'",
     "output_type": "error",
     "traceback": [
      "\u001b[0;31m---------------------------------------------------------------------------\u001b[0m",
      "\u001b[0;31mTypeError\u001b[0m                                 Traceback (most recent call last)",
      "Input \u001b[0;32mIn [100]\u001b[0m, in \u001b[0;36m<cell line: 1>\u001b[0;34m()\u001b[0m\n\u001b[0;32m----> 1\u001b[0m \u001b[43mcognitive_health\u001b[49m\u001b[43m \u001b[49m\u001b[43m[\u001b[49m\u001b[38;5;124;43m'\u001b[39;49m\u001b[38;5;124;43mhappyness\u001b[39;49m\u001b[38;5;124;43m'\u001b[39;49m\u001b[43m:\u001b[49m\u001b[38;5;124;43m'\u001b[39;49m\u001b[38;5;124;43menergy\u001b[39;49m\u001b[38;5;124;43m'\u001b[39;49m\u001b[43m]\u001b[49m\n",
      "\u001b[0;31mTypeError\u001b[0m: unhashable type: 'slice'"
     ]
    }
   ],
   "source": [
    "cognitive_health ['happyness':'energy']"
   ]
  },
  {
   "cell_type": "markdown",
   "id": "c4534034",
   "metadata": {},
   "source": [
    "A pandas Series do allow slicing: "
   ]
  },
  {
   "cell_type": "code",
   "execution_count": 101,
   "id": "a04cd35d",
   "metadata": {},
   "outputs": [
    {
     "data": {
      "text/plain": [
       "happiness    10\n",
       "language      2\n",
       "energy        5\n",
       "dtype: int64"
      ]
     },
     "execution_count": 101,
     "metadata": {},
     "output_type": "execute_result"
    }
   ],
   "source": [
    "cognitive_health_Series['happiness':'energy']"
   ]
  },
  {
   "cell_type": "markdown",
   "id": "dcda1d8a",
   "metadata": {},
   "source": [
    "To summarize what we have learned about pandas Series:\n",
    "\n",
    " - They are ordered and labelled one-dimensional arrays.\n",
    " - They can be populated by assigning\n",
    "  - values only (indeces are automatically assigned): `series = pd.Series(['a','b','c'])`\n",
    "  - values and indices explicitly: `series = pd.Series(['a','b','c'],index = [1,3,2])`\n",
    "  - python dictionaries directly: `dic = {1:'a',2:'b',3:'c'}`, `series = pd.Series(dic)` \n",
    " - They always come with the property `index`"
   ]
  },
  {
   "cell_type": "markdown",
   "id": "fe74dfd4",
   "metadata": {},
   "source": [
    "$\\color{blue}{\\text{Complete the following exercise.}}$\n",
    "\n",
    "  - Use the cell below to create a `Pandas` `Series` containing the months of the year as labels (index) and their duration in months as values (use a dictionary to create the `Series`):"
   ]
  },
  {
   "cell_type": "code",
   "execution_count": 102,
   "id": "996116d7",
   "metadata": {},
   "outputs": [
    {
     "data": {
      "text/html": [
       "<div>\n",
       "<style scoped>\n",
       "    .dataframe tbody tr th:only-of-type {\n",
       "        vertical-align: middle;\n",
       "    }\n",
       "\n",
       "    .dataframe tbody tr th {\n",
       "        vertical-align: top;\n",
       "    }\n",
       "\n",
       "    .dataframe thead th {\n",
       "        text-align: right;\n",
       "    }\n",
       "</style>\n",
       "<table border=\"1\" class=\"dataframe\">\n",
       "  <thead>\n",
       "    <tr style=\"text-align: right;\">\n",
       "      <th></th>\n",
       "      <th>months</th>\n",
       "      <th>days</th>\n",
       "    </tr>\n",
       "  </thead>\n",
       "  <tbody>\n",
       "    <tr>\n",
       "      <th>0</th>\n",
       "      <td>jan</td>\n",
       "      <td>31</td>\n",
       "    </tr>\n",
       "    <tr>\n",
       "      <th>1</th>\n",
       "      <td>feb</td>\n",
       "      <td>28</td>\n",
       "    </tr>\n",
       "    <tr>\n",
       "      <th>2</th>\n",
       "      <td>mar</td>\n",
       "      <td>30</td>\n",
       "    </tr>\n",
       "    <tr>\n",
       "      <th>3</th>\n",
       "      <td>apr</td>\n",
       "      <td>31</td>\n",
       "    </tr>\n",
       "    <tr>\n",
       "      <th>4</th>\n",
       "      <td>may</td>\n",
       "      <td>30</td>\n",
       "    </tr>\n",
       "    <tr>\n",
       "      <th>5</th>\n",
       "      <td>june</td>\n",
       "      <td>31</td>\n",
       "    </tr>\n",
       "    <tr>\n",
       "      <th>6</th>\n",
       "      <td>july</td>\n",
       "      <td>30</td>\n",
       "    </tr>\n",
       "    <tr>\n",
       "      <th>7</th>\n",
       "      <td>aug</td>\n",
       "      <td>31</td>\n",
       "    </tr>\n",
       "    <tr>\n",
       "      <th>8</th>\n",
       "      <td>sep</td>\n",
       "      <td>30</td>\n",
       "    </tr>\n",
       "    <tr>\n",
       "      <th>9</th>\n",
       "      <td>oct</td>\n",
       "      <td>31</td>\n",
       "    </tr>\n",
       "    <tr>\n",
       "      <th>10</th>\n",
       "      <td>nov</td>\n",
       "      <td>30</td>\n",
       "    </tr>\n",
       "    <tr>\n",
       "      <th>11</th>\n",
       "      <td>dec</td>\n",
       "      <td>31</td>\n",
       "    </tr>\n",
       "  </tbody>\n",
       "</table>\n",
       "</div>"
      ],
      "text/plain": [
       "   months  days\n",
       "0     jan    31\n",
       "1     feb    28\n",
       "2     mar    30\n",
       "3     apr    31\n",
       "4     may    30\n",
       "5    june    31\n",
       "6    july    30\n",
       "7     aug    31\n",
       "8     sep    30\n",
       "9     oct    31\n",
       "10    nov    30\n",
       "11    dec    31"
      ]
     },
     "execution_count": 102,
     "metadata": {},
     "output_type": "execute_result"
    }
   ],
   "source": [
    "data = {\"months\": ['jan', 'feb', 'mar','apr','may','june','july','aug', 'sep', 'oct','nov','dec'], \n",
    "       \"days\": [31,28,30,31,30,31,30,31,30,31,30,31]}\n",
    "pd.DataFrame(data)"
   ]
  },
  {
   "cell_type": "markdown",
   "id": "a3b73bbe",
   "metadata": {},
   "source": [
    " - Use the cell below to create a Pandas Series containing the months of the year as labels (index) and their duration in months as values (define index and values explicitly, or in other words do not use a dictionary to define the `Series`):"
   ]
  },
  {
   "cell_type": "code",
   "execution_count": 103,
   "id": "2bb9fdbd",
   "metadata": {},
   "outputs": [
    {
     "data": {
      "text/plain": [
       "RangeIndex(start=0, stop=12, step=1)"
      ]
     },
     "execution_count": 103,
     "metadata": {},
     "output_type": "execute_result"
    }
   ],
   "source": [
    "#define index and values explicitly. \n",
    "dic = [31,28,30,31,30,31,30,31,30,31,30,31]\n",
    "series = pd.Series(dic)\n",
    "series.index"
   ]
  },
  {
   "cell_type": "markdown",
   "id": "993aa08a",
   "metadata": {},
   "source": [
    "\n",
    "### Pandas `index` object\n",
    "\n",
    "Let's briefly discuss the `index` object in pandas. \n",
    "\n",
    "An `Index` is the pandas object that hosts information regarding the ordering and labels of the arrays inside other objects such as `Series` and `DataFrames`."
   ]
  },
  {
   "cell_type": "markdown",
   "id": "a2f4b00c",
   "metadata": {},
   "source": [
    "\n",
    "Index objects also have many of the attributes familiar from NumPy arrays (e.g., shape, dimensions, size, etc):"
   ]
  },
  {
   "cell_type": "code",
   "execution_count": 104,
   "id": "dbdfa80b",
   "metadata": {},
   "outputs": [
    {
     "name": "stdout",
     "output_type": "stream",
     "text": [
      "5 (5,) 1 int64\n",
      "Int64Index([1, 2, 3, 4, 5], dtype='int64')\n"
     ]
    }
   ],
   "source": [
    "ind = pd.Index([1, 2, 3, 4, 5])\n",
    "\n",
    "print(ind.size, ind.shape, ind.ndim, ind.dtype)\n",
    "\n",
    "print(ind)"
   ]
  },
  {
   "cell_type": "markdown",
   "id": "9d504aa8",
   "metadata": {},
   "source": [
    "Pandas `Index` objects are immutable.\n",
    "\n",
    "An index is similar to a NumPy array, but it is immutable. This means that once an Index is defined the values inside the index cannot be changed.\n",
    "\n",
    "Where arrays can be modified after definition, a pandas `index` cannot. Let's try this. Above we defined `ind` as a pandas `index` and set in the third position the value `3`. \n",
    "\n",
    "Let's try to change that value, evaluate the following operation in which we attempt to set the value `10` in the third position of `ind`:"
   ]
  },
  {
   "cell_type": "code",
   "execution_count": 105,
   "id": "c1c46330",
   "metadata": {},
   "outputs": [
    {
     "ename": "TypeError",
     "evalue": "Index does not support mutable operations",
     "output_type": "error",
     "traceback": [
      "\u001b[0;31m---------------------------------------------------------------------------\u001b[0m",
      "\u001b[0;31mTypeError\u001b[0m                                 Traceback (most recent call last)",
      "Input \u001b[0;32mIn [105]\u001b[0m, in \u001b[0;36m<cell line: 1>\u001b[0;34m()\u001b[0m\n\u001b[0;32m----> 1\u001b[0m ind[\u001b[38;5;241m2\u001b[39m] \u001b[38;5;241m=\u001b[39m \u001b[38;5;241m10\u001b[39m\n",
      "File \u001b[0;32m~/opt/anaconda3/lib/python3.9/site-packages/pandas/core/indexes/base.py:5021\u001b[0m, in \u001b[0;36mIndex.__setitem__\u001b[0;34m(self, key, value)\u001b[0m\n\u001b[1;32m   5019\u001b[0m \u001b[38;5;129m@final\u001b[39m\n\u001b[1;32m   5020\u001b[0m \u001b[38;5;28;01mdef\u001b[39;00m \u001b[38;5;21m__setitem__\u001b[39m(\u001b[38;5;28mself\u001b[39m, key, value):\n\u001b[0;32m-> 5021\u001b[0m     \u001b[38;5;28;01mraise\u001b[39;00m \u001b[38;5;167;01mTypeError\u001b[39;00m(\u001b[38;5;124m\"\u001b[39m\u001b[38;5;124mIndex does not support mutable operations\u001b[39m\u001b[38;5;124m\"\u001b[39m)\n",
      "\u001b[0;31mTypeError\u001b[0m: Index does not support mutable operations"
     ]
    }
   ],
   "source": [
    "ind[2] = 10"
   ]
  },
  {
   "cell_type": "markdown",
   "id": "ae4c4180",
   "metadata": {},
   "source": [
    "\n",
    "$\\color{blue}{\\text{Complete the following exercise.}}$\n",
    "\n",
    "  - Use the cell below to create a `Pandas` `index` called `PandasIndexOne` containing the days of the week and a corresponding `Numpy` `array` called `NumpyArrayOne` containing the same values:"
   ]
  },
  {
   "cell_type": "code",
   "execution_count": 106,
   "id": "caf36afa",
   "metadata": {},
   "outputs": [],
   "source": [
    "PandasIndexOne = pd.Index(['mon', 'tue', 'wed', 'thurs', 'fri', 'sat', 'sun'])\n",
    "NumpyArrayOne = np.array(['mon', 'tue', 'wed', 'thurs', 'fri', 'sat', 'sun'])"
   ]
  },
  {
   "cell_type": "markdown",
   "id": "10249662",
   "metadata": {},
   "source": [
    "  -  Show that the `PandasIndexOne` is immutable and `NumpyArrayOne` is not."
   ]
  },
  {
   "cell_type": "code",
   "execution_count": 107,
   "id": "2a5c1a6a",
   "metadata": {},
   "outputs": [
    {
     "ename": "TypeError",
     "evalue": "Index does not support mutable operations",
     "output_type": "error",
     "traceback": [
      "\u001b[0;31m---------------------------------------------------------------------------\u001b[0m",
      "\u001b[0;31mTypeError\u001b[0m                                 Traceback (most recent call last)",
      "Input \u001b[0;32mIn [107]\u001b[0m, in \u001b[0;36m<cell line: 1>\u001b[0;34m()\u001b[0m\n\u001b[0;32m----> 1\u001b[0m ind[\u001b[38;5;241m3\u001b[39m] \u001b[38;5;241m=\u001b[39m \u001b[38;5;124m'\u001b[39m\u001b[38;5;124mthurs\u001b[39m\u001b[38;5;124m'\u001b[39m\n",
      "File \u001b[0;32m~/opt/anaconda3/lib/python3.9/site-packages/pandas/core/indexes/base.py:5021\u001b[0m, in \u001b[0;36mIndex.__setitem__\u001b[0;34m(self, key, value)\u001b[0m\n\u001b[1;32m   5019\u001b[0m \u001b[38;5;129m@final\u001b[39m\n\u001b[1;32m   5020\u001b[0m \u001b[38;5;28;01mdef\u001b[39;00m \u001b[38;5;21m__setitem__\u001b[39m(\u001b[38;5;28mself\u001b[39m, key, value):\n\u001b[0;32m-> 5021\u001b[0m     \u001b[38;5;28;01mraise\u001b[39;00m \u001b[38;5;167;01mTypeError\u001b[39;00m(\u001b[38;5;124m\"\u001b[39m\u001b[38;5;124mIndex does not support mutable operations\u001b[39m\u001b[38;5;124m\"\u001b[39m)\n",
      "\u001b[0;31mTypeError\u001b[0m: Index does not support mutable operations"
     ]
    }
   ],
   "source": [
    "ind[3] = 'thurs'"
   ]
  },
  {
   "cell_type": "code",
   "execution_count": 108,
   "id": "ed110ffe",
   "metadata": {},
   "outputs": [
    {
     "name": "stdout",
     "output_type": "stream",
     "text": [
      "['mon' 'tue' 'fri' 'thurs' 'fri' 'sat' 'sun']\n"
     ]
    }
   ],
   "source": [
    "NumpyArrayOne[2] = 'fri'\n",
    "NumpyArrayOne[3] = 'thurs'\n",
    "print(NumpyArrayOne)"
   ]
  },
  {
   "cell_type": "markdown",
   "id": "4a54293d",
   "metadata": {},
   "source": [
    "The error should return the following line at the end:\n",
    "\n",
    "`TypeError: Index does not support mutable operations`\n",
    "\n",
    "A pandas `Index` does not allow changes. This is helpful. One way to think about the index is that it is a specialized NumPy array. Specialized means that it has a more narrow scope than the more general goal of a NumPy array. The scope is that to define the (ahem) index of a data frame. Because of this scope (store an index) changes to the values of the array are not allowed, in other words the `Index` is immutable, or cannot be changed after definition by assiging a different value to any of its elements.\n",
    "\n",
    "If we think about it, this makes sense. Changing a value inside an index of a data frame would change the definition of the data frame and really invalidating the purpuse of the index and of the data frame."
   ]
  },
  {
   "cell_type": "markdown",
   "id": "d4edd6ae",
   "metadata": {},
   "source": [
    "Pandas `Index` objects are designed to facilitate operations on the array and serve the task of keeping track of positions of data entries in the objects. \n",
    "\n",
    "They support and facilitiate operations such as joining datasets. Because of this the pandas index object follows many operations of the built in python datatype [`set`](https://docs.python.org/3/library/stdtypes.html#set-types-set-frozenset).\n",
    "\n",
    "Because of this the Index object allows many of operations also served by Python set data structure, such as unions, intersections, differences, and other combinations can be computed in a familiar way."
   ]
  },
  {
   "cell_type": "markdown",
   "id": "02adfe67",
   "metadata": {},
   "source": [
    "For example, two pandas index object can be united. This means that the unique indices are combined:"
   ]
  },
  {
   "cell_type": "code",
   "execution_count": 109,
   "id": "96268059",
   "metadata": {},
   "outputs": [
    {
     "data": {
      "text/plain": [
       "Int64Index([1, 2, 3, 4, 5, 6, 20], dtype='int64')"
      ]
     },
     "execution_count": 109,
     "metadata": {},
     "output_type": "execute_result"
    }
   ],
   "source": [
    "index1 = pd.Index([1, 2, 3, 4, 5])\n",
    "index2 = pd.Index([1, 3, 4, 6, 20])\n",
    "\n",
    "index1.union(index2) "
   ]
  },
  {
   "cell_type": "markdown",
   "id": "d0d93062",
   "metadata": {},
   "source": [
    "Other logical operations can be performed using pandas index objects, for example intersection (find the common elements):"
   ]
  },
  {
   "cell_type": "code",
   "execution_count": 110,
   "id": "cd6832dc",
   "metadata": {},
   "outputs": [
    {
     "data": {
      "text/plain": [
       "Int64Index([1, 3, 4], dtype='int64')"
      ]
     },
     "execution_count": 110,
     "metadata": {},
     "output_type": "execute_result"
    }
   ],
   "source": [
    "index1.intersection(index2)  "
   ]
  },
  {
   "cell_type": "code",
   "execution_count": 111,
   "id": "9d73939f",
   "metadata": {},
   "outputs": [
    {
     "data": {
      "text/plain": [
       "1    3\n",
       "3    6\n",
       "4    2\n",
       "dtype: int64"
      ]
     },
     "execution_count": 111,
     "metadata": {},
     "output_type": "execute_result"
    }
   ],
   "source": [
    "myseries = pd.Series([1,3,4,6,2,8])\n",
    "myseries[index1.intersection(index2)]"
   ]
  },
  {
   "cell_type": "markdown",
   "id": "2f409eb0",
   "metadata": {},
   "source": [
    "In sum, pandas index objects allow performing slicing, indexing operations and facilitate keeping track of, ahem, the indices."
   ]
  },
  {
   "cell_type": "markdown",
   "id": "13048823",
   "metadata": {},
   "source": [
    "$\\color{blue}{\\text{Complete the following exercise.}}$\n",
    "\n",
    "  - Use the cell below to create two `Pandas` `Series`. The first Series should be called `PandasSeriesOne` contain titles of five songs from your favourite artist as indices and their respective duration (it is fine to only write the first four words of the title). The second Series should be called `PandasSeriesTwo` and contain the songs of your colleague sitting to your right (or left if no one sites to your right) favourite artist as indices and their correspdoning duration as value. "
   ]
  },
  {
   "cell_type": "code",
   "execution_count": 112,
   "id": "638034c4",
   "metadata": {},
   "outputs": [
    {
     "name": "stdout",
     "output_type": "stream",
     "text": [
      "3       How Long\n",
      "3          Loser\n",
      "2      Attention\n",
      "4    Dangerously\n",
      "4    Marvin Gaye\n",
      "dtype: object\n"
     ]
    }
   ],
   "source": [
    "PandasSeriesOne = pd.Series(['How Long','Loser','Attention','Dangerously','Marvin Gaye'],index=[3,3,2,4,4])\n",
    "\n",
    "print(PandasSeriesOne)\n"
   ]
  },
  {
   "cell_type": "markdown",
   "id": "8458072c",
   "metadata": {},
   "source": [
    "### Pandas `DataFrame` objects"
   ]
  },
  {
   "cell_type": "markdown",
   "id": "ad3cf8a8",
   "metadata": {},
   "source": [
    "Whereas pandas `Index` and `Series` objects are the backbone of the pandas library, the `DataFrame` object is the workhorse of the library. DataFrames have effectively made pandas the library for data science."
   ]
  },
  {
   "cell_type": "markdown",
   "id": "e20b2253",
   "metadata": {},
   "source": [
    "The DataFrame is an exstension of the Series object. It is a 2-dimensional, mutable array that it can be conceptualized as either a more general NumPy array, or a specialized Python dictionary. \n",
    "\n",
    "A DataFrame can be defined most simply by setting some values to it. The indexing and labelling is automatically assigned by pandas. For example, we can create a one-dimensional list and assign the values of the list to a DataFrame:"
   ]
  },
  {
   "cell_type": "code",
   "execution_count": 113,
   "id": "2f7eb797",
   "metadata": {},
   "outputs": [
    {
     "name": "stdout",
     "output_type": "stream",
     "text": [
      "   0\n",
      "0  a\n",
      "1  b\n",
      "2  c\n",
      "3  d\n"
     ]
    }
   ],
   "source": [
    "list = ['a','b','c','d']\n",
    "data_frame1 = pd.DataFrame(list)\n",
    "print(data_frame1)"
   ]
  },
  {
   "cell_type": "markdown",
   "id": "77270c95",
   "metadata": {},
   "source": [
    "Even though the result might seem very similar to that obtained about with the Series object, in reality, the DataFrame object has assigned not one but two labels, one label for the rows dimension (`[0:3]`) and one for the column dimension (`0`).\n",
    "\n",
    "Indeed, we can notice from the `print()` output that two dimensions were automatically labelled (indexed) with numbers. Whereas the Series is created as a one-dimensional object, the DataFrame is created as a two-dimensional object."
   ]
  },
  {
   "cell_type": "markdown",
   "id": "e40ca7c4",
   "metadata": {},
   "source": [
    "Another way to think about a DataFrame is that it is a sequence of *aligned* Series objects. What do we mean by that?\n",
    "\n",
    "Each column in the DataFrame can be thought of as a Series. Each series is labelled by the column index. Importantley, the series are aligned, this means that the set of Series (the columns of the DataFrame) are indexed by a common `Index` object.\n",
    "\n",
    "Let's take a look at all this."
   ]
  },
  {
   "cell_type": "markdown",
   "id": "db6f2afd",
   "metadata": {},
   "source": [
    "Let's construct a new Series object similar to `cognitive_health_Series`, the object we created above (make sure that object is still in memeory, if needed re-run that section of the cells). Let's assume that that original series represented the data collected on a subject."
   ]
  },
  {
   "cell_type": "code",
   "execution_count": 114,
   "id": "e319b354",
   "metadata": {},
   "outputs": [
    {
     "data": {
      "text/plain": [
       "happiness    10\n",
       "language      2\n",
       "energy        5\n",
       "memory        3\n",
       "dtype: int64"
      ]
     },
     "execution_count": 114,
     "metadata": {},
     "output_type": "execute_result"
    }
   ],
   "source": [
    "cognitive_health_Series"
   ]
  },
  {
   "cell_type": "markdown",
   "id": "5dd9366f",
   "metadata": {},
   "source": [
    "The new Series will represent data on a second subject. To build the series we will use steps similar to the ones used above. We will first make a python dictionary and then make a pandas Series object out of it."
   ]
  },
  {
   "cell_type": "code",
   "execution_count": 115,
   "id": "bd9c364a",
   "metadata": {},
   "outputs": [
    {
     "data": {
      "text/plain": [
       "happyness    15\n",
       "language      4\n",
       "energy        9\n",
       "memory        6\n",
       "dtype: int64"
      ]
     },
     "execution_count": 115,
     "metadata": {},
     "output_type": "execute_result"
    }
   ],
   "source": [
    "cognitive_health_subject2_dict = {'happyness': 15,\n",
    "                                  'language': 4, \n",
    "                                  'energy': 9, \n",
    "                                  'memory': 6}\n",
    "cognitive_health_subject2_series = pd.Series(cognitive_health_subject2_dict)\n",
    "cognitive_health_subject2_series"
   ]
  },
  {
   "cell_type": "markdown",
   "id": "4733c06f",
   "metadata": {},
   "source": [
    " "
   ]
  },
  {
   "cell_type": "markdown",
   "id": "11c25226",
   "metadata": {},
   "source": [
    "Now that we have two pandas Series, we can construct a pandas DataFrame by combining the two Series objects. \n",
    "\n",
    "To do so, we will first create a single dictionary containing the two series, labelled as `subject 1` and `subject 2` and then use that dictionary to make a DataFrame."
   ]
  },
  {
   "cell_type": "markdown",
   "id": "72e81a77",
   "metadata": {},
   "source": [
    "The dictionary for the DataFrame is formed by assigning each subject to a label:"
   ]
  },
  {
   "cell_type": "code",
   "execution_count": 116,
   "id": "94b796ff",
   "metadata": {},
   "outputs": [
    {
     "name": "stdout",
     "output_type": "stream",
     "text": [
      "{'subject 1': happiness    10\n",
      "language      2\n",
      "energy        5\n",
      "memory        3\n",
      "dtype: int64, 'subject 2': happyness    15\n",
      "language      4\n",
      "energy        9\n",
      "memory        6\n",
      "dtype: int64}\n"
     ]
    }
   ],
   "source": [
    "dict = {'subject 1' : cognitive_health_Series, \n",
    "        'subject 2' : cognitive_health_subject2_series}\n",
    "print(dict)"
   ]
  },
  {
   "cell_type": "markdown",
   "id": "4dc145ad",
   "metadata": {},
   "source": [
    "The dictionary can now be used to build a DataFrame:"
   ]
  },
  {
   "cell_type": "code",
   "execution_count": 117,
   "id": "1a8fd462",
   "metadata": {},
   "outputs": [
    {
     "data": {
      "text/html": [
       "<div>\n",
       "<style scoped>\n",
       "    .dataframe tbody tr th:only-of-type {\n",
       "        vertical-align: middle;\n",
       "    }\n",
       "\n",
       "    .dataframe tbody tr th {\n",
       "        vertical-align: top;\n",
       "    }\n",
       "\n",
       "    .dataframe thead th {\n",
       "        text-align: right;\n",
       "    }\n",
       "</style>\n",
       "<table border=\"1\" class=\"dataframe\">\n",
       "  <thead>\n",
       "    <tr style=\"text-align: right;\">\n",
       "      <th></th>\n",
       "      <th>subject 1</th>\n",
       "      <th>subject 2</th>\n",
       "    </tr>\n",
       "  </thead>\n",
       "  <tbody>\n",
       "    <tr>\n",
       "      <th>energy</th>\n",
       "      <td>5.0</td>\n",
       "      <td>9.0</td>\n",
       "    </tr>\n",
       "    <tr>\n",
       "      <th>happiness</th>\n",
       "      <td>10.0</td>\n",
       "      <td>NaN</td>\n",
       "    </tr>\n",
       "    <tr>\n",
       "      <th>happyness</th>\n",
       "      <td>NaN</td>\n",
       "      <td>15.0</td>\n",
       "    </tr>\n",
       "    <tr>\n",
       "      <th>language</th>\n",
       "      <td>2.0</td>\n",
       "      <td>4.0</td>\n",
       "    </tr>\n",
       "    <tr>\n",
       "      <th>memory</th>\n",
       "      <td>3.0</td>\n",
       "      <td>6.0</td>\n",
       "    </tr>\n",
       "  </tbody>\n",
       "</table>\n",
       "</div>"
      ],
      "text/plain": [
       "           subject 1  subject 2\n",
       "energy           5.0        9.0\n",
       "happiness       10.0        NaN\n",
       "happyness        NaN       15.0\n",
       "language         2.0        4.0\n",
       "memory           3.0        6.0"
      ]
     },
     "execution_count": 117,
     "metadata": {},
     "output_type": "execute_result"
    }
   ],
   "source": [
    "sample = pd.DataFrame(dict)\n",
    "sample"
   ]
  },
  {
   "cell_type": "code",
   "execution_count": 118,
   "id": "8926549a",
   "metadata": {},
   "outputs": [
    {
     "name": "stdout",
     "output_type": "stream",
     "text": [
      "{'subject 1': happiness    10\n",
      "language      2\n",
      "energy        5\n",
      "memory        3\n",
      "dtype: int64, 'subject 2': happyness    15\n",
      "language      4\n",
      "energy        9\n",
      "memory        6\n",
      "attention    22\n",
      "dtype: int64}\n"
     ]
    },
    {
     "data": {
      "text/html": [
       "<div>\n",
       "<style scoped>\n",
       "    .dataframe tbody tr th:only-of-type {\n",
       "        vertical-align: middle;\n",
       "    }\n",
       "\n",
       "    .dataframe tbody tr th {\n",
       "        vertical-align: top;\n",
       "    }\n",
       "\n",
       "    .dataframe thead th {\n",
       "        text-align: right;\n",
       "    }\n",
       "</style>\n",
       "<table border=\"1\" class=\"dataframe\">\n",
       "  <thead>\n",
       "    <tr style=\"text-align: right;\">\n",
       "      <th></th>\n",
       "      <th>subject 1</th>\n",
       "      <th>subject 2</th>\n",
       "    </tr>\n",
       "  </thead>\n",
       "  <tbody>\n",
       "    <tr>\n",
       "      <th>attention</th>\n",
       "      <td>NaN</td>\n",
       "      <td>22.0</td>\n",
       "    </tr>\n",
       "    <tr>\n",
       "      <th>energy</th>\n",
       "      <td>5.0</td>\n",
       "      <td>9.0</td>\n",
       "    </tr>\n",
       "    <tr>\n",
       "      <th>happiness</th>\n",
       "      <td>10.0</td>\n",
       "      <td>NaN</td>\n",
       "    </tr>\n",
       "    <tr>\n",
       "      <th>happyness</th>\n",
       "      <td>NaN</td>\n",
       "      <td>15.0</td>\n",
       "    </tr>\n",
       "    <tr>\n",
       "      <th>language</th>\n",
       "      <td>2.0</td>\n",
       "      <td>4.0</td>\n",
       "    </tr>\n",
       "    <tr>\n",
       "      <th>memory</th>\n",
       "      <td>3.0</td>\n",
       "      <td>6.0</td>\n",
       "    </tr>\n",
       "  </tbody>\n",
       "</table>\n",
       "</div>"
      ],
      "text/plain": [
       "           subject 1  subject 2\n",
       "attention        NaN       22.0\n",
       "energy           5.0        9.0\n",
       "happiness       10.0        NaN\n",
       "happyness        NaN       15.0\n",
       "language         2.0        4.0\n",
       "memory           3.0        6.0"
      ]
     },
     "execution_count": 118,
     "metadata": {},
     "output_type": "execute_result"
    }
   ],
   "source": [
    "cognitive_health_subject2_dict = {'happyness': 15,\n",
    "                                  'language': 4, \n",
    "                                  'energy': 9, \n",
    "                                  'memory': 6,\n",
    "                                  'attention': 22}\n",
    "cognitive_health_subject2_series = pd.Series(cognitive_health_subject2_dict)\n",
    "cognitive_health_subject2_series\n",
    "\n",
    "dict = {'subject 1' : cognitive_health_Series, \n",
    "        'subject 2' : cognitive_health_subject2_series}\n",
    "print(dict)\n",
    "\n",
    "sample = pd.DataFrame(dict)\n",
    "sample"
   ]
  },
  {
   "cell_type": "markdown",
   "id": "e5170db7",
   "metadata": {},
   "source": [
    "Excellent. Pandas did its Kung Fu. The dictionary comprising two pandas Series, was organized into a pandas DataFrame."
   ]
  },
  {
   "cell_type": "markdown",
   "id": "3f3bd391",
   "metadata": {},
   "source": [
    "Next try adding two more subjects to the same DataFrame (`sample`). Let's practice this with a subject that has all values higher than subject 2 by a value of 3 (just add 3) and another subject that has all values lower than subject 2 by a value of 2 (just subtract 3)."
   ]
  },
  {
   "cell_type": "code",
   "execution_count": 119,
   "id": "f427937e",
   "metadata": {},
   "outputs": [
    {
     "data": {
      "text/plain": [
       "happyness    13\n",
       "language      2\n",
       "energy        7\n",
       "memory        4\n",
       "dtype: int64"
      ]
     },
     "execution_count": 119,
     "metadata": {},
     "output_type": "execute_result"
    }
   ],
   "source": [
    "cognitive_health_subject4_dict = {'happyness': 15-2,\n",
    "                                  'language': 4-2, \n",
    "                                  'energy': 9-2, \n",
    "                                  'memory': 6-2}\n",
    "cognitive_health_subject4_series = pd.Series(cognitive_health_subject4_dict)\n",
    "cognitive_health_subject4_series"
   ]
  },
  {
   "cell_type": "code",
   "execution_count": 120,
   "id": "89f91104",
   "metadata": {},
   "outputs": [
    {
     "data": {
      "text/plain": [
       "happyness    18\n",
       "language      7\n",
       "energy       12\n",
       "memory        9\n",
       "dtype: int64"
      ]
     },
     "execution_count": 120,
     "metadata": {},
     "output_type": "execute_result"
    }
   ],
   "source": [
    "cognitive_health_subject3_dict = {'happyness': 15+3,\n",
    "                                  'language': 4+3, \n",
    "                                  'energy': 9+3, \n",
    "                                  'memory': 6+3}\n",
    "cognitive_health_subject3_series = pd.Series(cognitive_health_subject3_dict)\n",
    "cognitive_health_subject3_series"
   ]
  },
  {
   "cell_type": "code",
   "execution_count": 121,
   "id": "a2ad7ae7",
   "metadata": {},
   "outputs": [
    {
     "name": "stdout",
     "output_type": "stream",
     "text": [
      "{'subject 1': happiness    10\n",
      "language      2\n",
      "energy        5\n",
      "memory        3\n",
      "dtype: int64, 'subject 2': happyness    15\n",
      "language      4\n",
      "energy        9\n",
      "memory        6\n",
      "attention    22\n",
      "dtype: int64, 'subject 3': happyness    18\n",
      "language      7\n",
      "energy       12\n",
      "memory        9\n",
      "dtype: int64, 'subject 4': happyness    13\n",
      "language      2\n",
      "energy        7\n",
      "memory        4\n",
      "dtype: int64}\n"
     ]
    }
   ],
   "source": [
    "dict = {'subject 1' : cognitive_health_Series, \n",
    "        'subject 2' : cognitive_health_subject2_series, \n",
    "        'subject 3' : cognitive_health_subject3_series,\n",
    "        'subject 4' : cognitive_health_subject4_series,\n",
    "       }\n",
    "print(dict)"
   ]
  },
  {
   "cell_type": "code",
   "execution_count": 122,
   "id": "56bbcb40",
   "metadata": {},
   "outputs": [
    {
     "data": {
      "text/html": [
       "<div>\n",
       "<style scoped>\n",
       "    .dataframe tbody tr th:only-of-type {\n",
       "        vertical-align: middle;\n",
       "    }\n",
       "\n",
       "    .dataframe tbody tr th {\n",
       "        vertical-align: top;\n",
       "    }\n",
       "\n",
       "    .dataframe thead th {\n",
       "        text-align: right;\n",
       "    }\n",
       "</style>\n",
       "<table border=\"1\" class=\"dataframe\">\n",
       "  <thead>\n",
       "    <tr style=\"text-align: right;\">\n",
       "      <th></th>\n",
       "      <th>subject 1</th>\n",
       "      <th>subject 2</th>\n",
       "      <th>subject 3</th>\n",
       "      <th>subject 4</th>\n",
       "    </tr>\n",
       "  </thead>\n",
       "  <tbody>\n",
       "    <tr>\n",
       "      <th>attention</th>\n",
       "      <td>NaN</td>\n",
       "      <td>22.0</td>\n",
       "      <td>NaN</td>\n",
       "      <td>NaN</td>\n",
       "    </tr>\n",
       "    <tr>\n",
       "      <th>energy</th>\n",
       "      <td>5.0</td>\n",
       "      <td>9.0</td>\n",
       "      <td>12.0</td>\n",
       "      <td>7.0</td>\n",
       "    </tr>\n",
       "    <tr>\n",
       "      <th>happiness</th>\n",
       "      <td>10.0</td>\n",
       "      <td>NaN</td>\n",
       "      <td>NaN</td>\n",
       "      <td>NaN</td>\n",
       "    </tr>\n",
       "    <tr>\n",
       "      <th>happyness</th>\n",
       "      <td>NaN</td>\n",
       "      <td>15.0</td>\n",
       "      <td>18.0</td>\n",
       "      <td>13.0</td>\n",
       "    </tr>\n",
       "    <tr>\n",
       "      <th>language</th>\n",
       "      <td>2.0</td>\n",
       "      <td>4.0</td>\n",
       "      <td>7.0</td>\n",
       "      <td>2.0</td>\n",
       "    </tr>\n",
       "    <tr>\n",
       "      <th>memory</th>\n",
       "      <td>3.0</td>\n",
       "      <td>6.0</td>\n",
       "      <td>9.0</td>\n",
       "      <td>4.0</td>\n",
       "    </tr>\n",
       "  </tbody>\n",
       "</table>\n",
       "</div>"
      ],
      "text/plain": [
       "           subject 1  subject 2  subject 3  subject 4\n",
       "attention        NaN       22.0        NaN        NaN\n",
       "energy           5.0        9.0       12.0        7.0\n",
       "happiness       10.0        NaN        NaN        NaN\n",
       "happyness        NaN       15.0       18.0       13.0\n",
       "language         2.0        4.0        7.0        2.0\n",
       "memory           3.0        6.0        9.0        4.0"
      ]
     },
     "execution_count": 122,
     "metadata": {},
     "output_type": "execute_result"
    }
   ],
   "source": [
    "sample = pd.DataFrame(dict)\n",
    "sample"
   ]
  },
  {
   "cell_type": "code",
   "execution_count": 123,
   "id": "716c16ef",
   "metadata": {},
   "outputs": [
    {
     "data": {
      "text/html": [
       "<div>\n",
       "<style scoped>\n",
       "    .dataframe tbody tr th:only-of-type {\n",
       "        vertical-align: middle;\n",
       "    }\n",
       "\n",
       "    .dataframe tbody tr th {\n",
       "        vertical-align: top;\n",
       "    }\n",
       "\n",
       "    .dataframe thead th {\n",
       "        text-align: right;\n",
       "    }\n",
       "</style>\n",
       "<table border=\"1\" class=\"dataframe\">\n",
       "  <thead>\n",
       "    <tr style=\"text-align: right;\">\n",
       "      <th></th>\n",
       "      <th>subject 1</th>\n",
       "      <th>subject 2</th>\n",
       "      <th>subject 3</th>\n",
       "      <th>subject 4</th>\n",
       "    </tr>\n",
       "  </thead>\n",
       "  <tbody>\n",
       "    <tr>\n",
       "      <th>attention</th>\n",
       "      <td>True</td>\n",
       "      <td>False</td>\n",
       "      <td>True</td>\n",
       "      <td>True</td>\n",
       "    </tr>\n",
       "    <tr>\n",
       "      <th>energy</th>\n",
       "      <td>False</td>\n",
       "      <td>False</td>\n",
       "      <td>False</td>\n",
       "      <td>False</td>\n",
       "    </tr>\n",
       "    <tr>\n",
       "      <th>happiness</th>\n",
       "      <td>False</td>\n",
       "      <td>True</td>\n",
       "      <td>True</td>\n",
       "      <td>True</td>\n",
       "    </tr>\n",
       "    <tr>\n",
       "      <th>happyness</th>\n",
       "      <td>True</td>\n",
       "      <td>False</td>\n",
       "      <td>False</td>\n",
       "      <td>False</td>\n",
       "    </tr>\n",
       "    <tr>\n",
       "      <th>language</th>\n",
       "      <td>False</td>\n",
       "      <td>False</td>\n",
       "      <td>False</td>\n",
       "      <td>False</td>\n",
       "    </tr>\n",
       "    <tr>\n",
       "      <th>memory</th>\n",
       "      <td>False</td>\n",
       "      <td>False</td>\n",
       "      <td>False</td>\n",
       "      <td>False</td>\n",
       "    </tr>\n",
       "  </tbody>\n",
       "</table>\n",
       "</div>"
      ],
      "text/plain": [
       "           subject 1  subject 2  subject 3  subject 4\n",
       "attention       True      False       True       True\n",
       "energy         False      False      False      False\n",
       "happiness      False       True       True       True\n",
       "happyness       True      False      False      False\n",
       "language       False      False      False      False\n",
       "memory         False      False      False      False"
      ]
     },
     "execution_count": 123,
     "metadata": {},
     "output_type": "execute_result"
    }
   ],
   "source": [
    "sample.isna()"
   ]
  },
  {
   "cell_type": "markdown",
   "id": "1a116791",
   "metadata": {},
   "source": [
    "The newly created DataFrame has various attributes that we can explore. We can address and extract the columns for example:"
   ]
  },
  {
   "cell_type": "code",
   "execution_count": 124,
   "id": "9223214d",
   "metadata": {},
   "outputs": [
    {
     "name": "stdout",
     "output_type": "stream",
     "text": [
      "Index(['subject 1', 'subject 2', 'subject 3', 'subject 4'], dtype='object')\n"
     ]
    }
   ],
   "source": [
    "cols = sample.columns\n",
    "print(cols)"
   ]
  },
  {
   "cell_type": "markdown",
   "id": "1ffef904",
   "metadata": {},
   "source": [
    "We can address the rows, which in technical terms are called the labels or the index:"
   ]
  },
  {
   "cell_type": "code",
   "execution_count": 125,
   "id": "d177f83f",
   "metadata": {},
   "outputs": [
    {
     "name": "stdout",
     "output_type": "stream",
     "text": [
      "Index(['attention', 'energy', 'happiness', 'happyness', 'language', 'memory'], dtype='object')\n"
     ]
    }
   ],
   "source": [
    "rows = sample.index\n",
    "print(rows)"
   ]
  },
  {
   "cell_type": "markdown",
   "id": "6973f1e1",
   "metadata": {},
   "source": [
    "$\\color{blue}{\\text{Complete the following exercise.}}$\n",
    "\n",
    "  - Use the cell below to create a Pandas `DataFrame`. Each column of the DataFrame should be the title of song you pick (it is fine to clip the title tothe first 4 words in the title). Each row of the data frame should be the name of one of your colleagues, use 3-4 names. Interview 3-4 of your colleagues and add the value in each cell representing the rating of the corresponding song that each colleague provides using a scale between 0-5, where 5 is an awesome song and 0 is a boring song."
   ]
  },
  {
   "cell_type": "code",
   "execution_count": 141,
   "id": "c04c5505",
   "metadata": {},
   "outputs": [
    {
     "data": {
      "text/html": [
       "<div>\n",
       "<style scoped>\n",
       "    .dataframe tbody tr th:only-of-type {\n",
       "        vertical-align: middle;\n",
       "    }\n",
       "\n",
       "    .dataframe tbody tr th {\n",
       "        vertical-align: top;\n",
       "    }\n",
       "\n",
       "    .dataframe thead th {\n",
       "        text-align: right;\n",
       "    }\n",
       "</style>\n",
       "<table border=\"1\" class=\"dataframe\">\n",
       "  <thead>\n",
       "    <tr style=\"text-align: right;\">\n",
       "      <th></th>\n",
       "      <th>Person One</th>\n",
       "      <th>Person Two</th>\n",
       "      <th>Person Three</th>\n",
       "    </tr>\n",
       "  </thead>\n",
       "  <tbody>\n",
       "    <tr>\n",
       "      <th>I know what you did last summer</th>\n",
       "      <td>4</td>\n",
       "      <td>4</td>\n",
       "      <td>4</td>\n",
       "    </tr>\n",
       "    <tr>\n",
       "      <th>Attention</th>\n",
       "      <td>5</td>\n",
       "      <td>5</td>\n",
       "      <td>5</td>\n",
       "    </tr>\n",
       "    <tr>\n",
       "      <th>Summertime Sadness</th>\n",
       "      <td>4</td>\n",
       "      <td>4</td>\n",
       "      <td>4</td>\n",
       "    </tr>\n",
       "    <tr>\n",
       "      <th>Baby</th>\n",
       "      <td>2</td>\n",
       "      <td>2</td>\n",
       "      <td>2</td>\n",
       "    </tr>\n",
       "    <tr>\n",
       "      <th>Fireworks</th>\n",
       "      <td>1</td>\n",
       "      <td>1</td>\n",
       "      <td>1</td>\n",
       "    </tr>\n",
       "  </tbody>\n",
       "</table>\n",
       "</div>"
      ],
      "text/plain": [
       "                                 Person One  Person Two  Person Three\n",
       "I know what you did last summer           4           4             4\n",
       "Attention                                 5           5             5\n",
       "Summertime Sadness                        4           4             4\n",
       "Baby                                      2           2             2\n",
       "Fireworks                                 1           1             1"
      ]
     },
     "execution_count": 141,
     "metadata": {},
     "output_type": "execute_result"
    }
   ],
   "source": [
    "#I asked my room mates \n",
    "\n",
    "Person1 = {'I know what you did last summer': 4, \n",
    "            'Attention':5, \n",
    "            'Summertime Sadness':4, \n",
    "            'Baby':2, \n",
    "            'Fireworks':1}\n",
    "series1 = pd.Series(Person1)\n",
    "\n",
    "\n",
    "Person2 = {'I know what you did last summer': 4, \n",
    "            'Attention':5, \n",
    "            'Summertime Sadness':4, \n",
    "            'Baby':2, \n",
    "            'Fireworks':1}\n",
    "series2 = pd.Series(Person2)\n",
    "\n",
    "Person3 = {'I know what you did last summer': 4, \n",
    "            'Attention':5, \n",
    "            'Summertime Sadness':4, \n",
    "            'Baby':2, \n",
    "            'Fireworks':1}\n",
    "series3 = pd.Series(Person3)\n",
    "\n",
    "dict = {'Person One': series1, 'Person Two': series2,\n",
    "       'Person Three': series3}\n",
    "SongRatings = pd.DataFrame(dict)\n",
    "SongRatings"
   ]
  },
  {
   "cell_type": "markdown",
   "id": "25f939e2",
   "metadata": {},
   "source": [
    "  - Use the cell below to create a Pandas `DataFrame`. Each column of the DataFrame should be the name of an band/singer of your pick (it is fine to clip the title tothe first 4 words in the title). Each row of the data frame should be the name of one of your colleagues, use 3-4 names. Interview 3-4 of your colleagues and add the value in each cell representing the rating of the corresponding song that each colleague provides using a scale between 0-5, where 5 is an awesome song and 0 is a boring song."
   ]
  },
  {
   "cell_type": "code",
   "execution_count": 142,
   "id": "d62741bb",
   "metadata": {},
   "outputs": [
    {
     "data": {
      "text/html": [
       "<div>\n",
       "<style scoped>\n",
       "    .dataframe tbody tr th:only-of-type {\n",
       "        vertical-align: middle;\n",
       "    }\n",
       "\n",
       "    .dataframe tbody tr th {\n",
       "        vertical-align: top;\n",
       "    }\n",
       "\n",
       "    .dataframe thead th {\n",
       "        text-align: right;\n",
       "    }\n",
       "</style>\n",
       "<table border=\"1\" class=\"dataframe\">\n",
       "  <thead>\n",
       "    <tr style=\"text-align: right;\">\n",
       "      <th></th>\n",
       "      <th>Person One</th>\n",
       "      <th>Person Two</th>\n",
       "      <th>Person Three</th>\n",
       "    </tr>\n",
       "  </thead>\n",
       "  <tbody>\n",
       "    <tr>\n",
       "      <th>Charlie Puth</th>\n",
       "      <td>5</td>\n",
       "      <td>2</td>\n",
       "      <td>1</td>\n",
       "    </tr>\n",
       "    <tr>\n",
       "      <th>The Weeknd</th>\n",
       "      <td>4</td>\n",
       "      <td>4</td>\n",
       "      <td>1</td>\n",
       "    </tr>\n",
       "    <tr>\n",
       "      <th>Paramore</th>\n",
       "      <td>3</td>\n",
       "      <td>2</td>\n",
       "      <td>2</td>\n",
       "    </tr>\n",
       "    <tr>\n",
       "      <th>Fall Out Boy</th>\n",
       "      <td>2</td>\n",
       "      <td>2</td>\n",
       "      <td>3</td>\n",
       "    </tr>\n",
       "    <tr>\n",
       "      <th>Selena Gomez</th>\n",
       "      <td>1</td>\n",
       "      <td>1</td>\n",
       "      <td>1</td>\n",
       "    </tr>\n",
       "  </tbody>\n",
       "</table>\n",
       "</div>"
      ],
      "text/plain": [
       "               Person One  Person Two  Person Three\n",
       "Charlie Puth            5           2             1\n",
       "The Weeknd              4           4             1\n",
       "Paramore                3           2             2\n",
       "Fall Out Boy            2           2             3\n",
       "Selena Gomez            1           1             1"
      ]
     },
     "execution_count": 142,
     "metadata": {},
     "output_type": "execute_result"
    }
   ],
   "source": [
    "Person1 = {'Charlie Puth': 5, \n",
    "            'The Weeknd':4, \n",
    "            'Paramore':3, \n",
    "            'Fall Out Boy ':2, \n",
    "            'Selena Gomez':1}\n",
    "series1 = pd.Series(Person1)\n",
    "\n",
    "\n",
    "Person2 = {'Charlie Puth': 2, \n",
    "            'The Weeknd':4, \n",
    "            'Paramore':2, \n",
    "            'Fall Out Boy ':2, \n",
    "            'Selena Gomez':1}\n",
    "series2 = pd.Series(Person2)\n",
    "\n",
    "Person3 = {'Charlie Puth': 1, \n",
    "            'The Weeknd':1, \n",
    "            'Paramore':2, \n",
    "            'Fall Out Boy ':3, \n",
    "            'Selena Gomez':1}\n",
    "series3 = pd.Series(Person3)\n",
    "\n",
    "dict = {'Person One': series1, 'Person Two': series2,\n",
    "       'Person Three': series3}\n",
    "SongRatings = pd.DataFrame(dict)\n",
    "SongRatings"
   ]
  },
  {
   "cell_type": "markdown",
   "id": "9ed1f7c3",
   "metadata": {},
   "source": [
    "### Summary\n",
    "\n",
    "We have learned about the library `pandas` and the three fundamental objects of the library:\n",
    " - Index\n",
    " - Series\n",
    " - DataFrames\n",
    " \n",
    " These last one are the most used, versatile data representation objects and are most commonly used for data science projects.\n",
    " \n",
    " Pandas DataFrames are 2-dimensional objects composed by collections of one-dimensional objects called Series. The one-dimensional objects in a DataFrame are `aligned` meaning that all entries of a series are matched, they are related, each row is indexed by the same index no matter what series."
   ]
  },
  {
   "cell_type": "markdown",
   "id": "82828110",
   "metadata": {},
   "source": [
    "$\\color{blue}{\\text{Complete the following exercise.}}$\n",
    "\n",
    "To practice with pandas Series and DataFrames, build a new dataset that has 10 series (subject 1-10) representing measurements from the following measures of brain health (use a tidy format with columns as variables and rows as subjects). Guess appropriate values for neuronal activity, blood oxygenation, pulsation and cortical thickness.\n",
    "\n",
    "`['neuronal activity', 'blood oxygenation', 'blood pulsation rate', 'cortical thickness']`"
   ]
  },
  {
   "cell_type": "code",
   "execution_count": null,
   "id": "5634fa7b",
   "metadata": {},
   "outputs": [],
   "source": [
    "subject1 = {'Neuronal Activity(mM 10-12)':10,\n",
    "'Blood Oxygenation (% 95 and higher)':95,\n",
    "'Blood Pulsation Rate (bpm 60-100)':68,\n",
    "'Cortical Thickness (mm, approx 2.5)':2.5}\n",
    "series1 = pd.Series(subject1)\n",
    "\n",
    "\n",
    "subject2 = {'Neuronal Activity(mM)':12,\n",
    "'Blood Oxygenation (%)':100,\n",
    "'Blood Pulsation Rate(bpm)':92,\n",
    "'Cortical Thickness(mm)':2.9}\n",
    "series2 = pd.Series(subject2)\n",
    "\n",
    "\n",
    "subject3 = {'Neuronal Activity(mM)':11,\n",
    "'Blood Oxygenation(%)':94,\n",
    "'Blood Pulsation Rate(bpm)':69,\n",
    "'Cortical Thickness(mm)':2.5}\n",
    "series3 = pd.Series(subject3)\n",
    "\n",
    "\n",
    "subject4 = {'Neuronal Activity(mM)':12,\n",
    "'Blood Oxygenation(%)':93,\n",
    "'Blood Pulsation Rate(bpm)':84,\n",
    "'Cortical Thickness(mm)':2.7}\n",
    "series4 = pd.Series(subject4)\n",
    "\n",
    "\n",
    "subject5 = {'Neuronal Activity(mM)':15,\n",
    "'Blood Oxygenation(%)':99,\n",
    "'Blood Pulsation Rate(bpm)':79,\n",
    "'Cortical Thickness(mm)':3.1}\n",
    "series5 = pd.Series(subject5)\n",
    "\n",
    "\n",
    "subject6 ={'Neuronal Activity(mM)':10,\n",
    "'Blood Oxygenation(%)':100,\n",
    "'Blood Pulsation Rate(bpm)':65,\n",
    "'Cortical Thickness(mm)':2.8}\n",
    "series6 = pd.Series(subject6)\n",
    "\n",
    "\n",
    "subject7 = {'Neuronal Activity(mM)':8,\n",
    "'Blood Oxygenation(%)':91,\n",
    "'Blood Pulsation Rate(bpm)':59,\n",
    "'Cortical Thickness(mm)':2.3}\n",
    "series7 = pd.Series(subject7)\n",
    "\n",
    "\n",
    "subject8 = {'Neuronal Activity(mM)':11,\n",
    "'Blood Oxygenation(%)':83,\n",
    "'Blood Pulsation Rate(bpm)':84,\n",
    "'Cortical Thickness(mm)':2.5}\n",
    "series8 = pd.Series(subject8)\n",
    "\n",
    "subject9 = {'Neuronal Activity(mM)':12,\n",
    "'Blood Oxygenation(%)':98,\n",
    "'Blood Pulsation Rate(bpm)':84,\n",
    "'Cortical Thickness(mm)':2.7}\n",
    "series9 = pd.Series(subject9)\n",
    "\n",
    "\n",
    "subject10 = {'Neuronal Activity':24,\n",
    "'Blood Oxygenation':99,\n",
    "'Blood Pulsation Rate':102,\n",
    "'Cortical Thickness':3.5}\n",
    "series10 = pd.Series(subject10)\n",
    "\n",
    "\n",
    "dict = {'Subject One':series1,\n",
    "'Subject Two':series2,\n",
    "'Subject Three':series3,\n",
    "'Subject Four':series4,\n",
    "'Subject Five':series5,\n",
    "'Subject Six':series6,\n",
    "'Subject Seven':series7,\n",
    "'Subject Eight':series8,\n",
    "'Subject Nine':series9,\n",
    "'Subject Ten':series10}\n",
    "\n",
    "MeasuresofBrainHealth_dataframe = pd.DataFrame(dict)\n",
    "MeasuresofBrainHealth_dataframe"
   ]
  }
 ],
 "metadata": {
  "kernelspec": {
   "display_name": "Python 3 (ipykernel)",
   "language": "python",
   "name": "python3"
  },
  "language_info": {
   "codemirror_mode": {
    "name": "ipython",
    "version": 3
   },
   "file_extension": ".py",
   "mimetype": "text/x-python",
   "name": "python",
   "nbconvert_exporter": "python",
   "pygments_lexer": "ipython3",
   "version": "3.9.12"
  }
 },
 "nbformat": 4,
 "nbformat_minor": 5
}
