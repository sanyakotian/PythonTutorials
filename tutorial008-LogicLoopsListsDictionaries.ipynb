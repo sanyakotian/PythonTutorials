{
 "cells": [
  {
   "cell_type": "code",
   "execution_count": 1,
   "id": "a9298935",
   "metadata": {},
   "outputs": [
    {
     "ename": "SyntaxError",
     "evalue": "invalid syntax (3741659941.py, line 1)",
     "output_type": "error",
     "traceback": [
      "\u001b[0;36m  File \u001b[0;32m\"/var/folders/ym/g0t45zsx6kj122mw2d8vf7zm0000gq/T/ipykernel_32057/3741659941.py\"\u001b[0;36m, line \u001b[0;32m1\u001b[0m\n\u001b[0;31m    https://dartbrains.org/content/Introduction_to_Programming.html\u001b[0m\n\u001b[0m          ^\u001b[0m\n\u001b[0;31mSyntaxError\u001b[0m\u001b[0;31m:\u001b[0m invalid syntax\n"
     ]
    }
   ],
   "source": [
    "https://dartbrains.org/content/Introduction_to_Programming.html\n",
    "http://scipy-lectures.org/intro/language/basic_types.html\n",
    "    \n",
    "    \n",
    "Python provides many efficient types of containers...\n",
    "  \n",
    "    -Lists\n",
    "    - Strings\n",
    "\n",
    "Methods and Object-Oriented Programming\n",
    "The notation rcolors.method() (e.g. rcolors.append(3) and colors.pop()) is our first example of \n",
    "object-oriented programming (OOP). Being a list, the object rcolors owns the method function that \n",
    "is called using the notation .. \n",
    "No further knowledge of OOP than understanding the notation . is necessary for going through this tutorial.\n",
    "\n",
    "\n",
    "Python Containers\n",
    "There are 4 main types of builtin containers for storing data in Python:\n",
    "\n",
    "list\n",
    "\n",
    "tuple\n",
    "\n",
    "dict\n",
    "\n",
    "set"
   ]
  },
  {
   "cell_type": "code",
   "execution_count": null,
   "id": "4ed2e42b",
   "metadata": {},
   "outputs": [],
   "source": []
  }
 ],
 "metadata": {
  "kernelspec": {
   "display_name": "Python 3 (ipykernel)",
   "language": "python",
   "name": "python3"
  },
  "language_info": {
   "codemirror_mode": {
    "name": "ipython",
    "version": 3
   },
   "file_extension": ".py",
   "mimetype": "text/x-python",
   "name": "python",
   "nbconvert_exporter": "python",
   "pygments_lexer": "ipython3",
   "version": "3.9.7"
  }
 },
 "nbformat": 4,
 "nbformat_minor": 5
}
